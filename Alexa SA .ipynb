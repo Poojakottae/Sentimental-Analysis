{
 "cells": [
  {
   "cell_type": "code",
   "execution_count": 2,
   "metadata": {},
   "outputs": [],
   "source": [
    "import numpy as np\n",
    "import pandas as pd\n",
    "import matplotlib.pyplot as plt\n",
    "import seaborn as sns\n",
    "%matplotlib inline\n",
    "plt.style.use('fivethirtyeight')\n",
    "import os\n",
    "import nltk\n"
   ]
  },
  {
   "cell_type": "code",
   "execution_count": 3,
   "metadata": {},
   "outputs": [
    {
     "data": {
      "text/plain": [
       "((3150, 5), 2, 15750)"
      ]
     },
     "execution_count": 3,
     "metadata": {},
     "output_type": "execute_result"
    }
   ],
   "source": [
    "data = pd.read_csv('alexa.tsv', delimiter = '\\t', quoting = 3)\n",
    "data.shape,data.ndim,data.size"
   ]
  },
  {
   "cell_type": "code",
   "execution_count": 4,
   "metadata": {},
   "outputs": [
    {
     "data": {
      "text/html": [
       "<div>\n",
       "<style scoped>\n",
       "    .dataframe tbody tr th:only-of-type {\n",
       "        vertical-align: middle;\n",
       "    }\n",
       "\n",
       "    .dataframe tbody tr th {\n",
       "        vertical-align: top;\n",
       "    }\n",
       "\n",
       "    .dataframe thead th {\n",
       "        text-align: right;\n",
       "    }\n",
       "</style>\n",
       "<table border=\"1\" class=\"dataframe\">\n",
       "  <thead>\n",
       "    <tr style=\"text-align: right;\">\n",
       "      <th></th>\n",
       "      <th>rating</th>\n",
       "      <th>date</th>\n",
       "      <th>variation</th>\n",
       "      <th>verified_reviews</th>\n",
       "      <th>Reviews</th>\n",
       "    </tr>\n",
       "  </thead>\n",
       "  <tbody>\n",
       "    <tr>\n",
       "      <td>0</td>\n",
       "      <td>5</td>\n",
       "      <td>31-Jul-18</td>\n",
       "      <td>Charcoal Fabric</td>\n",
       "      <td>Love my Echo!</td>\n",
       "      <td>1</td>\n",
       "    </tr>\n",
       "    <tr>\n",
       "      <td>1</td>\n",
       "      <td>5</td>\n",
       "      <td>31-Jul-18</td>\n",
       "      <td>Charcoal Fabric</td>\n",
       "      <td>Loved it!</td>\n",
       "      <td>1</td>\n",
       "    </tr>\n",
       "    <tr>\n",
       "      <td>2</td>\n",
       "      <td>4</td>\n",
       "      <td>31-Jul-18</td>\n",
       "      <td>Walnut Finish</td>\n",
       "      <td>\"Sometimes while playing a game, you can answe...</td>\n",
       "      <td>1</td>\n",
       "    </tr>\n",
       "    <tr>\n",
       "      <td>3</td>\n",
       "      <td>5</td>\n",
       "      <td>31-Jul-18</td>\n",
       "      <td>Charcoal Fabric</td>\n",
       "      <td>\"I have had a lot of fun with this thing. My 4...</td>\n",
       "      <td>1</td>\n",
       "    </tr>\n",
       "    <tr>\n",
       "      <td>4</td>\n",
       "      <td>5</td>\n",
       "      <td>31-Jul-18</td>\n",
       "      <td>Charcoal Fabric</td>\n",
       "      <td>Music</td>\n",
       "      <td>1</td>\n",
       "    </tr>\n",
       "    <tr>\n",
       "      <td>...</td>\n",
       "      <td>...</td>\n",
       "      <td>...</td>\n",
       "      <td>...</td>\n",
       "      <td>...</td>\n",
       "      <td>...</td>\n",
       "    </tr>\n",
       "    <tr>\n",
       "      <td>3145</td>\n",
       "      <td>5</td>\n",
       "      <td>30-Jul-18</td>\n",
       "      <td>Black  Dot</td>\n",
       "      <td>\"Perfect for kids, adults and everyone in betw...</td>\n",
       "      <td>1</td>\n",
       "    </tr>\n",
       "    <tr>\n",
       "      <td>3146</td>\n",
       "      <td>5</td>\n",
       "      <td>30-Jul-18</td>\n",
       "      <td>Black  Dot</td>\n",
       "      <td>\"Listening to music, searching locations, chec...</td>\n",
       "      <td>1</td>\n",
       "    </tr>\n",
       "    <tr>\n",
       "      <td>3147</td>\n",
       "      <td>5</td>\n",
       "      <td>30-Jul-18</td>\n",
       "      <td>Black  Dot</td>\n",
       "      <td>\"I do love these things, i have them running m...</td>\n",
       "      <td>1</td>\n",
       "    </tr>\n",
       "    <tr>\n",
       "      <td>3148</td>\n",
       "      <td>5</td>\n",
       "      <td>30-Jul-18</td>\n",
       "      <td>White  Dot</td>\n",
       "      <td>\"Only complaint I have is that the sound quali...</td>\n",
       "      <td>1</td>\n",
       "    </tr>\n",
       "    <tr>\n",
       "      <td>3149</td>\n",
       "      <td>4</td>\n",
       "      <td>29-Jul-18</td>\n",
       "      <td>Black  Dot</td>\n",
       "      <td>Good</td>\n",
       "      <td>1</td>\n",
       "    </tr>\n",
       "  </tbody>\n",
       "</table>\n",
       "<p>3150 rows × 5 columns</p>\n",
       "</div>"
      ],
      "text/plain": [
       "      rating       date         variation  \\\n",
       "0          5  31-Jul-18  Charcoal Fabric    \n",
       "1          5  31-Jul-18  Charcoal Fabric    \n",
       "2          4  31-Jul-18    Walnut Finish    \n",
       "3          5  31-Jul-18  Charcoal Fabric    \n",
       "4          5  31-Jul-18  Charcoal Fabric    \n",
       "...      ...        ...               ...   \n",
       "3145       5  30-Jul-18        Black  Dot   \n",
       "3146       5  30-Jul-18        Black  Dot   \n",
       "3147       5  30-Jul-18        Black  Dot   \n",
       "3148       5  30-Jul-18        White  Dot   \n",
       "3149       4  29-Jul-18        Black  Dot   \n",
       "\n",
       "                                       verified_reviews  Reviews  \n",
       "0                                         Love my Echo!        1  \n",
       "1                                             Loved it!        1  \n",
       "2     \"Sometimes while playing a game, you can answe...        1  \n",
       "3     \"I have had a lot of fun with this thing. My 4...        1  \n",
       "4                                                 Music        1  \n",
       "...                                                 ...      ...  \n",
       "3145  \"Perfect for kids, adults and everyone in betw...        1  \n",
       "3146  \"Listening to music, searching locations, chec...        1  \n",
       "3147  \"I do love these things, i have them running m...        1  \n",
       "3148  \"Only complaint I have is that the sound quali...        1  \n",
       "3149                                               Good        1  \n",
       "\n",
       "[3150 rows x 5 columns]"
      ]
     },
     "execution_count": 4,
     "metadata": {},
     "output_type": "execute_result"
    }
   ],
   "source": [
    "data.columns.values[-1]=\"Reviews\"\n",
    "data"
   ]
  },
  {
   "cell_type": "code",
   "execution_count": 5,
   "metadata": {},
   "outputs": [
    {
     "data": {
      "text/html": [
       "<div>\n",
       "<style scoped>\n",
       "    .dataframe tbody tr th:only-of-type {\n",
       "        vertical-align: middle;\n",
       "    }\n",
       "\n",
       "    .dataframe tbody tr th {\n",
       "        vertical-align: top;\n",
       "    }\n",
       "\n",
       "    .dataframe thead th {\n",
       "        text-align: right;\n",
       "    }\n",
       "</style>\n",
       "<table border=\"1\" class=\"dataframe\">\n",
       "  <thead>\n",
       "    <tr style=\"text-align: right;\">\n",
       "      <th></th>\n",
       "      <th>rating</th>\n",
       "      <th>Reviews</th>\n",
       "    </tr>\n",
       "  </thead>\n",
       "  <tbody>\n",
       "    <tr>\n",
       "      <td>count</td>\n",
       "      <td>3150.000000</td>\n",
       "      <td>3150.000000</td>\n",
       "    </tr>\n",
       "    <tr>\n",
       "      <td>mean</td>\n",
       "      <td>4.463175</td>\n",
       "      <td>0.918413</td>\n",
       "    </tr>\n",
       "    <tr>\n",
       "      <td>std</td>\n",
       "      <td>1.068506</td>\n",
       "      <td>0.273778</td>\n",
       "    </tr>\n",
       "    <tr>\n",
       "      <td>min</td>\n",
       "      <td>1.000000</td>\n",
       "      <td>0.000000</td>\n",
       "    </tr>\n",
       "    <tr>\n",
       "      <td>25%</td>\n",
       "      <td>4.000000</td>\n",
       "      <td>1.000000</td>\n",
       "    </tr>\n",
       "    <tr>\n",
       "      <td>50%</td>\n",
       "      <td>5.000000</td>\n",
       "      <td>1.000000</td>\n",
       "    </tr>\n",
       "    <tr>\n",
       "      <td>75%</td>\n",
       "      <td>5.000000</td>\n",
       "      <td>1.000000</td>\n",
       "    </tr>\n",
       "    <tr>\n",
       "      <td>max</td>\n",
       "      <td>5.000000</td>\n",
       "      <td>1.000000</td>\n",
       "    </tr>\n",
       "  </tbody>\n",
       "</table>\n",
       "</div>"
      ],
      "text/plain": [
       "            rating      Reviews\n",
       "count  3150.000000  3150.000000\n",
       "mean      4.463175     0.918413\n",
       "std       1.068506     0.273778\n",
       "min       1.000000     0.000000\n",
       "25%       4.000000     1.000000\n",
       "50%       5.000000     1.000000\n",
       "75%       5.000000     1.000000\n",
       "max       5.000000     1.000000"
      ]
     },
     "execution_count": 5,
     "metadata": {},
     "output_type": "execute_result"
    }
   ],
   "source": [
    "data.describe()"
   ]
  },
  {
   "cell_type": "code",
   "execution_count": 6,
   "metadata": {},
   "outputs": [
    {
     "data": {
      "text/plain": [
       "<bound method DataFrame.info of       rating       date         variation  \\\n",
       "0          5  31-Jul-18  Charcoal Fabric    \n",
       "1          5  31-Jul-18  Charcoal Fabric    \n",
       "2          4  31-Jul-18    Walnut Finish    \n",
       "3          5  31-Jul-18  Charcoal Fabric    \n",
       "4          5  31-Jul-18  Charcoal Fabric    \n",
       "...      ...        ...               ...   \n",
       "3145       5  30-Jul-18        Black  Dot   \n",
       "3146       5  30-Jul-18        Black  Dot   \n",
       "3147       5  30-Jul-18        Black  Dot   \n",
       "3148       5  30-Jul-18        White  Dot   \n",
       "3149       4  29-Jul-18        Black  Dot   \n",
       "\n",
       "                                       verified_reviews  Reviews  \n",
       "0                                         Love my Echo!        1  \n",
       "1                                             Loved it!        1  \n",
       "2     \"Sometimes while playing a game, you can answe...        1  \n",
       "3     \"I have had a lot of fun with this thing. My 4...        1  \n",
       "4                                                 Music        1  \n",
       "...                                                 ...      ...  \n",
       "3145  \"Perfect for kids, adults and everyone in betw...        1  \n",
       "3146  \"Listening to music, searching locations, chec...        1  \n",
       "3147  \"I do love these things, i have them running m...        1  \n",
       "3148  \"Only complaint I have is that the sound quali...        1  \n",
       "3149                                               Good        1  \n",
       "\n",
       "[3150 rows x 5 columns]>"
      ]
     },
     "execution_count": 6,
     "metadata": {},
     "output_type": "execute_result"
    }
   ],
   "source": [
    "data.info"
   ]
  },
  {
   "cell_type": "code",
   "execution_count": 7,
   "metadata": {},
   "outputs": [
    {
     "data": {
      "text/html": [
       "<div>\n",
       "<style scoped>\n",
       "    .dataframe tbody tr th:only-of-type {\n",
       "        vertical-align: middle;\n",
       "    }\n",
       "\n",
       "    .dataframe tbody tr th {\n",
       "        vertical-align: top;\n",
       "    }\n",
       "\n",
       "    .dataframe thead tr th {\n",
       "        text-align: left;\n",
       "    }\n",
       "\n",
       "    .dataframe thead tr:last-of-type th {\n",
       "        text-align: right;\n",
       "    }\n",
       "</style>\n",
       "<table border=\"1\" class=\"dataframe\">\n",
       "  <thead>\n",
       "    <tr>\n",
       "      <th></th>\n",
       "      <th colspan=\"8\" halign=\"left\">Reviews</th>\n",
       "    </tr>\n",
       "    <tr>\n",
       "      <th></th>\n",
       "      <th>count</th>\n",
       "      <th>mean</th>\n",
       "      <th>std</th>\n",
       "      <th>min</th>\n",
       "      <th>25%</th>\n",
       "      <th>50%</th>\n",
       "      <th>75%</th>\n",
       "      <th>max</th>\n",
       "    </tr>\n",
       "    <tr>\n",
       "      <th>rating</th>\n",
       "      <th></th>\n",
       "      <th></th>\n",
       "      <th></th>\n",
       "      <th></th>\n",
       "      <th></th>\n",
       "      <th></th>\n",
       "      <th></th>\n",
       "      <th></th>\n",
       "    </tr>\n",
       "  </thead>\n",
       "  <tbody>\n",
       "    <tr>\n",
       "      <td>1</td>\n",
       "      <td>161.0</td>\n",
       "      <td>0.0</td>\n",
       "      <td>0.0</td>\n",
       "      <td>0.0</td>\n",
       "      <td>0.0</td>\n",
       "      <td>0.0</td>\n",
       "      <td>0.0</td>\n",
       "      <td>0.0</td>\n",
       "    </tr>\n",
       "    <tr>\n",
       "      <td>2</td>\n",
       "      <td>96.0</td>\n",
       "      <td>0.0</td>\n",
       "      <td>0.0</td>\n",
       "      <td>0.0</td>\n",
       "      <td>0.0</td>\n",
       "      <td>0.0</td>\n",
       "      <td>0.0</td>\n",
       "      <td>0.0</td>\n",
       "    </tr>\n",
       "    <tr>\n",
       "      <td>3</td>\n",
       "      <td>152.0</td>\n",
       "      <td>1.0</td>\n",
       "      <td>0.0</td>\n",
       "      <td>1.0</td>\n",
       "      <td>1.0</td>\n",
       "      <td>1.0</td>\n",
       "      <td>1.0</td>\n",
       "      <td>1.0</td>\n",
       "    </tr>\n",
       "    <tr>\n",
       "      <td>4</td>\n",
       "      <td>455.0</td>\n",
       "      <td>1.0</td>\n",
       "      <td>0.0</td>\n",
       "      <td>1.0</td>\n",
       "      <td>1.0</td>\n",
       "      <td>1.0</td>\n",
       "      <td>1.0</td>\n",
       "      <td>1.0</td>\n",
       "    </tr>\n",
       "    <tr>\n",
       "      <td>5</td>\n",
       "      <td>2286.0</td>\n",
       "      <td>1.0</td>\n",
       "      <td>0.0</td>\n",
       "      <td>1.0</td>\n",
       "      <td>1.0</td>\n",
       "      <td>1.0</td>\n",
       "      <td>1.0</td>\n",
       "      <td>1.0</td>\n",
       "    </tr>\n",
       "  </tbody>\n",
       "</table>\n",
       "</div>"
      ],
      "text/plain": [
       "       Reviews                                   \n",
       "         count mean  std  min  25%  50%  75%  max\n",
       "rating                                           \n",
       "1        161.0  0.0  0.0  0.0  0.0  0.0  0.0  0.0\n",
       "2         96.0  0.0  0.0  0.0  0.0  0.0  0.0  0.0\n",
       "3        152.0  1.0  0.0  1.0  1.0  1.0  1.0  1.0\n",
       "4        455.0  1.0  0.0  1.0  1.0  1.0  1.0  1.0\n",
       "5       2286.0  1.0  0.0  1.0  1.0  1.0  1.0  1.0"
      ]
     },
     "execution_count": 7,
     "metadata": {},
     "output_type": "execute_result"
    }
   ],
   "source": [
    "data.groupby('rating').describe()"
   ]
  },
  {
   "cell_type": "code",
   "execution_count": 8,
   "metadata": {},
   "outputs": [
    {
     "data": {
      "text/html": [
       "<div>\n",
       "<style scoped>\n",
       "    .dataframe tbody tr th:only-of-type {\n",
       "        vertical-align: middle;\n",
       "    }\n",
       "\n",
       "    .dataframe tbody tr th {\n",
       "        vertical-align: top;\n",
       "    }\n",
       "\n",
       "    .dataframe thead tr th {\n",
       "        text-align: left;\n",
       "    }\n",
       "\n",
       "    .dataframe thead tr:last-of-type th {\n",
       "        text-align: right;\n",
       "    }\n",
       "</style>\n",
       "<table border=\"1\" class=\"dataframe\">\n",
       "  <thead>\n",
       "    <tr>\n",
       "      <th></th>\n",
       "      <th colspan=\"8\" halign=\"left\">rating</th>\n",
       "    </tr>\n",
       "    <tr>\n",
       "      <th></th>\n",
       "      <th>count</th>\n",
       "      <th>mean</th>\n",
       "      <th>std</th>\n",
       "      <th>min</th>\n",
       "      <th>25%</th>\n",
       "      <th>50%</th>\n",
       "      <th>75%</th>\n",
       "      <th>max</th>\n",
       "    </tr>\n",
       "    <tr>\n",
       "      <th>Reviews</th>\n",
       "      <th></th>\n",
       "      <th></th>\n",
       "      <th></th>\n",
       "      <th></th>\n",
       "      <th></th>\n",
       "      <th></th>\n",
       "      <th></th>\n",
       "      <th></th>\n",
       "    </tr>\n",
       "  </thead>\n",
       "  <tbody>\n",
       "    <tr>\n",
       "      <td>0</td>\n",
       "      <td>257.0</td>\n",
       "      <td>1.373541</td>\n",
       "      <td>0.484688</td>\n",
       "      <td>1.0</td>\n",
       "      <td>1.0</td>\n",
       "      <td>1.0</td>\n",
       "      <td>2.0</td>\n",
       "      <td>2.0</td>\n",
       "    </tr>\n",
       "    <tr>\n",
       "      <td>1</td>\n",
       "      <td>2893.0</td>\n",
       "      <td>4.737643</td>\n",
       "      <td>0.546544</td>\n",
       "      <td>3.0</td>\n",
       "      <td>5.0</td>\n",
       "      <td>5.0</td>\n",
       "      <td>5.0</td>\n",
       "      <td>5.0</td>\n",
       "    </tr>\n",
       "  </tbody>\n",
       "</table>\n",
       "</div>"
      ],
      "text/plain": [
       "         rating                                             \n",
       "          count      mean       std  min  25%  50%  75%  max\n",
       "Reviews                                                     \n",
       "0         257.0  1.373541  0.484688  1.0  1.0  1.0  2.0  2.0\n",
       "1        2893.0  4.737643  0.546544  3.0  5.0  5.0  5.0  5.0"
      ]
     },
     "execution_count": 8,
     "metadata": {},
     "output_type": "execute_result"
    }
   ],
   "source": [
    "data.groupby('Reviews').describe()"
   ]
  },
  {
   "cell_type": "code",
   "execution_count": 9,
   "metadata": {},
   "outputs": [
    {
     "data": {
      "text/html": [
       "<div>\n",
       "<style scoped>\n",
       "    .dataframe tbody tr th:only-of-type {\n",
       "        vertical-align: middle;\n",
       "    }\n",
       "\n",
       "    .dataframe tbody tr th {\n",
       "        vertical-align: top;\n",
       "    }\n",
       "\n",
       "    .dataframe thead th {\n",
       "        text-align: right;\n",
       "    }\n",
       "</style>\n",
       "<table border=\"1\" class=\"dataframe\">\n",
       "  <thead>\n",
       "    <tr style=\"text-align: right;\">\n",
       "      <th></th>\n",
       "      <th>rating</th>\n",
       "      <th>date</th>\n",
       "      <th>variation</th>\n",
       "      <th>verified_reviews</th>\n",
       "      <th>Reviews</th>\n",
       "      <th>length</th>\n",
       "    </tr>\n",
       "  </thead>\n",
       "  <tbody>\n",
       "    <tr>\n",
       "      <td>0</td>\n",
       "      <td>5</td>\n",
       "      <td>31-Jul-18</td>\n",
       "      <td>Charcoal Fabric</td>\n",
       "      <td>Love my Echo!</td>\n",
       "      <td>1</td>\n",
       "      <td>13</td>\n",
       "    </tr>\n",
       "    <tr>\n",
       "      <td>1</td>\n",
       "      <td>5</td>\n",
       "      <td>31-Jul-18</td>\n",
       "      <td>Charcoal Fabric</td>\n",
       "      <td>Loved it!</td>\n",
       "      <td>1</td>\n",
       "      <td>9</td>\n",
       "    </tr>\n",
       "    <tr>\n",
       "      <td>2</td>\n",
       "      <td>4</td>\n",
       "      <td>31-Jul-18</td>\n",
       "      <td>Walnut Finish</td>\n",
       "      <td>\"Sometimes while playing a game, you can answe...</td>\n",
       "      <td>1</td>\n",
       "      <td>197</td>\n",
       "    </tr>\n",
       "    <tr>\n",
       "      <td>3</td>\n",
       "      <td>5</td>\n",
       "      <td>31-Jul-18</td>\n",
       "      <td>Charcoal Fabric</td>\n",
       "      <td>\"I have had a lot of fun with this thing. My 4...</td>\n",
       "      <td>1</td>\n",
       "      <td>174</td>\n",
       "    </tr>\n",
       "    <tr>\n",
       "      <td>4</td>\n",
       "      <td>5</td>\n",
       "      <td>31-Jul-18</td>\n",
       "      <td>Charcoal Fabric</td>\n",
       "      <td>Music</td>\n",
       "      <td>1</td>\n",
       "      <td>5</td>\n",
       "    </tr>\n",
       "  </tbody>\n",
       "</table>\n",
       "</div>"
      ],
      "text/plain": [
       "   rating       date         variation  \\\n",
       "0       5  31-Jul-18  Charcoal Fabric    \n",
       "1       5  31-Jul-18  Charcoal Fabric    \n",
       "2       4  31-Jul-18    Walnut Finish    \n",
       "3       5  31-Jul-18  Charcoal Fabric    \n",
       "4       5  31-Jul-18  Charcoal Fabric    \n",
       "\n",
       "                                    verified_reviews  Reviews  length  \n",
       "0                                      Love my Echo!        1      13  \n",
       "1                                          Loved it!        1       9  \n",
       "2  \"Sometimes while playing a game, you can answe...        1     197  \n",
       "3  \"I have had a lot of fun with this thing. My 4...        1     174  \n",
       "4                                              Music        1       5  "
      ]
     },
     "execution_count": 9,
     "metadata": {},
     "output_type": "execute_result"
    }
   ],
   "source": [
    "data['length'] = data['verified_reviews'].apply(len)\n",
    "data.head()"
   ]
  },
  {
   "cell_type": "code",
   "execution_count": 10,
   "metadata": {},
   "outputs": [
    {
     "data": {
      "text/plain": [
       "count    3150.000000\n",
       "mean      132.673651\n",
       "std       182.526953\n",
       "min         1.000000\n",
       "25%        30.000000\n",
       "50%        74.000000\n",
       "75%       166.000000\n",
       "max      2853.000000\n",
       "Name: length, dtype: float64"
      ]
     },
     "execution_count": 10,
     "metadata": {},
     "output_type": "execute_result"
    }
   ],
   "source": [
    "data.length.describe()"
   ]
  },
  {
   "cell_type": "code",
   "execution_count": 11,
   "metadata": {},
   "outputs": [
    {
     "data": {
      "text/plain": [
       "array([<matplotlib.axes._subplots.AxesSubplot object at 0x000001F96F6EE948>,\n",
       "       <matplotlib.axes._subplots.AxesSubplot object at 0x000001F96F793948>],\n",
       "      dtype=object)"
      ]
     },
     "execution_count": 11,
     "metadata": {},
     "output_type": "execute_result"
    },
    {
     "data": {
      "image/png": "[encoded data removed]",
      "text/plain": [
       "<Figure size 720x288 with 2 Axes>"
      ]
     },
     "metadata": {},
     "output_type": "display_data"
    }
   ],
   "source": [
    "data.hist(column='length', by='Reviews', bins=50,figsize=(10,4))\n"
   ]
  },
  {
   "cell_type": "code",
   "execution_count": 12,
   "metadata": {},
   "outputs": [
    {
     "data": {
      "text/html": [
       "        <script type=\"text/javascript\">\n",
       "        window.PlotlyConfig = {MathJaxConfig: 'local'};\n",
       "        if (window.MathJax) {MathJax.Hub.Config({SVG: {font: \"STIX-Web\"}});}\n",
       "        if (typeof require !== 'undefined') {\n",
       "        require.undef(\"plotly\");\n",
       "        requirejs.config({\n",
       "            paths: {\n",
       "                'plotly': ['https://cdn.plot.ly/plotly-latest.min']\n",
       "            }\n",
       "        });\n",
       "        require(['plotly'], function(Plotly) {\n",
       "            window._Plotly = Plotly;\n",
       "        });\n",
       "        }\n",
       "        </script>\n",
       "        "
      ]
     },
     "metadata": {},
     "output_type": "display_data"
    }
   ],
   "source": [
    "import plotly.offline as py\n",
    "from plotly.offline import init_notebook_mode, iplot\n",
    "import plotly.graph_objs as go\n",
    "from plotly import tools\n",
    "init_notebook_mode(connected = True)\n",
    "import plotly.figure_factory as ff"
   ]
  },
  {
   "cell_type": "code",
   "execution_count": 13,
   "metadata": {},
   "outputs": [
    {
     "data": {
      "application/vnd.plotly.v1+json": {
       "config": {
        "linkText": "Export to plot.ly",
        "plotlyServerURL": "https://plot.ly",
        "showLink": false
       },
       "data": [
        {
         "hole": 0.3,
         "labels": [
          5,
          4,
          1,
          3,
          2
         ],
         "marker": {
          "colors": [
           "pink",
           "lightblue",
           "aqua",
           "gold",
           "crimson"
          ]
         },
         "name": "Alexa",
         "type": "pie",
         "values": [
          2286,
          455,
          161,
          152,
          96
         ]
        }
       ],
       "layout": {
        "template": {
         "data": {
          "bar": [
           {
            "error_x": {
             "color": "#2a3f5f"
            },
            "error_y": {
             "color": "#2a3f5f"
            },
            "marker": {
             "line": {
              "color": "#E5ECF6",
              "width": 0.5
             }
            },
            "type": "bar"
           }
          ],
          "barpolar": [
           {
            "marker": {
             "line": {
              "color": "#E5ECF6",
              "width": 0.5
             }
            },
            "type": "barpolar"
           }
          ],
          "carpet": [
           {
            "aaxis": {
             "endlinecolor": "#2a3f5f",
             "gridcolor": "white",
             "linecolor": "white",
             "minorgridcolor": "white",
             "startlinecolor": "#2a3f5f"
            },
            "baxis": {
             "endlinecolor": "#2a3f5f",
             "gridcolor": "white",
             "linecolor": "white",
             "minorgridcolor": "white",
             "startlinecolor": "#2a3f5f"
            },
            "type": "carpet"
           }
          ],
          "choropleth": [
           {
            "colorbar": {
             "outlinewidth": 0,
             "ticks": ""
            },
            "type": "choropleth"
           }
          ],
          "contour": [
           {
            "colorbar": {
             "outlinewidth": 0,
             "ticks": ""
            },
            "colorscale": [
             [
              0,
              "#0d0887"
             ],
             [
              0.1111111111111111,
              "#46039f"
             ],
             [
              0.2222222222222222,
              "#7201a8"
             ],
             [
              0.3333333333333333,
              "#9c179e"
             ],
             [
              0.4444444444444444,
              "#bd3786"
             ],
             [
              0.5555555555555556,
              "#d8576b"
             ],
             [
              0.6666666666666666,
              "#ed7953"
             ],
             [
              0.7777777777777778,
              "#fb9f3a"
             ],
             [
              0.8888888888888888,
              "#fdca26"
             ],
             [
              1,
              "#f0f921"
             ]
            ],
            "type": "contour"
           }
          ],
          "contourcarpet": [
           {
            "colorbar": {
             "outlinewidth": 0,
             "ticks": ""
            },
            "type": "contourcarpet"
           }
          ],
          "heatmap": [
           {
            "colorbar": {
             "outlinewidth": 0,
             "ticks": ""
            },
            "colorscale": [
             [
              0,
              "#0d0887"
             ],
             [
              0.1111111111111111,
              "#46039f"
             ],
             [
              0.2222222222222222,
              "#7201a8"
             ],
             [
              0.3333333333333333,
              "#9c179e"
             ],
             [
              0.4444444444444444,
              "#bd3786"
             ],
             [
              0.5555555555555556,
              "#d8576b"
             ],
             [
              0.6666666666666666,
              "#ed7953"
             ],
             [
              0.7777777777777778,
              "#fb9f3a"
             ],
             [
              0.8888888888888888,
              "#fdca26"
             ],
             [
              1,
              "#f0f921"
             ]
            ],
            "type": "heatmap"
           }
          ],
          "heatmapgl": [
           {
            "colorbar": {
             "outlinewidth": 0,
             "ticks": ""
            },
            "colorscale": [
             [
              0,
              "#0d0887"
             ],
             [
              0.1111111111111111,
              "#46039f"
             ],
             [
              0.2222222222222222,
              "#7201a8"
             ],
             [
              0.3333333333333333,
              "#9c179e"
             ],
             [
              0.4444444444444444,
              "#bd3786"
             ],
             [
              0.5555555555555556,
              "#d8576b"
             ],
             [
              0.6666666666666666,
              "#ed7953"
             ],
             [
              0.7777777777777778,
              "#fb9f3a"
             ],
             [
              0.8888888888888888,
              "#fdca26"
             ],
             [
              1,
              "#f0f921"
             ]
            ],
            "type": "heatmapgl"
           }
          ],
          "histogram": [
           {
            "marker": {
             "colorbar": {
              "outlinewidth": 0,
              "ticks": ""
             }
            },
            "type": "histogram"
           }
          ],
          "histogram2d": [
           {
            "colorbar": {
             "outlinewidth": 0,
             "ticks": ""
            },
            "colorscale": [
             [
              0,
              "#0d0887"
             ],
             [
              0.1111111111111111,
              "#46039f"
             ],
             [
              0.2222222222222222,
              "#7201a8"
             ],
             [
              0.3333333333333333,
              "#9c179e"
             ],
             [
              0.4444444444444444,
              "#bd3786"
             ],
             [
              0.5555555555555556,
              "#d8576b"
             ],
             [
              0.6666666666666666,
              "#ed7953"
             ],
             [
              0.7777777777777778,
              "#fb9f3a"
             ],
             [
              0.8888888888888888,
              "#fdca26"
             ],
             [
              1,
              "#f0f921"
             ]
            ],
            "type": "histogram2d"
           }
          ],
          "histogram2dcontour": [
           {
            "colorbar": {
             "outlinewidth": 0,
             "ticks": ""
            },
            "colorscale": [
             [
              0,
              "#0d0887"
             ],
             [
              0.1111111111111111,
              "#46039f"
             ],
             [
              0.2222222222222222,
              "#7201a8"
             ],
             [
              0.3333333333333333,
              "#9c179e"
             ],
             [
              0.4444444444444444,
              "#bd3786"
             ],
             [
              0.5555555555555556,
              "#d8576b"
             ],
             [
              0.6666666666666666,
              "#ed7953"
             ],
             [
              0.7777777777777778,
              "#fb9f3a"
             ],
             [
              0.8888888888888888,
              "#fdca26"
             ],
             [
              1,
              "#f0f921"
             ]
            ],
            "type": "histogram2dcontour"
           }
          ],
          "mesh3d": [
           {
            "colorbar": {
             "outlinewidth": 0,
             "ticks": ""
            },
            "type": "mesh3d"
           }
          ],
          "parcoords": [
           {
            "line": {
             "colorbar": {
              "outlinewidth": 0,
              "ticks": ""
             }
            },
            "type": "parcoords"
           }
          ],
          "pie": [
           {
            "automargin": true,
            "type": "pie"
           }
          ],
          "scatter": [
           {
            "marker": {
             "colorbar": {
              "outlinewidth": 0,
              "ticks": ""
             }
            },
            "type": "scatter"
           }
          ],
          "scatter3d": [
           {
            "line": {
             "colorbar": {
              "outlinewidth": 0,
              "ticks": ""
             }
            },
            "marker": {
             "colorbar": {
              "outlinewidth": 0,
              "ticks": ""
             }
            },
            "type": "scatter3d"
           }
          ],
          "scattercarpet": [
           {
            "marker": {
             "colorbar": {
              "outlinewidth": 0,
              "ticks": ""
             }
            },
            "type": "scattercarpet"
           }
          ],
          "scattergeo": [
           {
            "marker": {
             "colorbar": {
              "outlinewidth": 0,
              "ticks": ""
             }
            },
            "type": "scattergeo"
           }
          ],
          "scattergl": [
           {
            "marker": {
             "colorbar": {
              "outlinewidth": 0,
              "ticks": ""
             }
            },
            "type": "scattergl"
           }
          ],
          "scattermapbox": [
           {
            "marker": {
             "colorbar": {
              "outlinewidth": 0,
              "ticks": ""
             }
            },
            "type": "scattermapbox"
           }
          ],
          "scatterpolar": [
           {
            "marker": {
             "colorbar": {
              "outlinewidth": 0,
              "ticks": ""
             }
            },
            "type": "scatterpolar"
           }
          ],
          "scatterpolargl": [
           {
            "marker": {
             "colorbar": {
              "outlinewidth": 0,
              "ticks": ""
             }
            },
            "type": "scatterpolargl"
           }
          ],
          "scatterternary": [
           {
            "marker": {
             "colorbar": {
              "outlinewidth": 0,
              "ticks": ""
             }
            },
            "type": "scatterternary"
           }
          ],
          "surface": [
           {
            "colorbar": {
             "outlinewidth": 0,
             "ticks": ""
            },
            "colorscale": [
             [
              0,
              "#0d0887"
             ],
             [
              0.1111111111111111,
              "#46039f"
             ],
             [
              0.2222222222222222,
              "#7201a8"
             ],
             [
              0.3333333333333333,
              "#9c179e"
             ],
             [
              0.4444444444444444,
              "#bd3786"
             ],
             [
              0.5555555555555556,
              "#d8576b"
             ],
             [
              0.6666666666666666,
              "#ed7953"
             ],
             [
              0.7777777777777778,
              "#fb9f3a"
             ],
             [
              0.8888888888888888,
              "#fdca26"
             ],
             [
              1,
              "#f0f921"
             ]
            ],
            "type": "surface"
           }
          ],
          "table": [
           {
            "cells": {
             "fill": {
              "color": "#EBF0F8"
             },
             "line": {
              "color": "white"
             }
            },
            "header": {
             "fill": {
              "color": "#C8D4E3"
             },
             "line": {
              "color": "white"
             }
            },
            "type": "table"
           }
          ]
         },
         "layout": {
          "annotationdefaults": {
           "arrowcolor": "#2a3f5f",
           "arrowhead": 0,
           "arrowwidth": 1
          },
          "coloraxis": {
           "colorbar": {
            "outlinewidth": 0,
            "ticks": ""
           }
          },
          "colorscale": {
           "diverging": [
            [
             0,
             "#8e0152"
            ],
            [
             0.1,
             "#c51b7d"
            ],
            [
             0.2,
             "#de77ae"
            ],
            [
             0.3,
             "#f1b6da"
            ],
            [
             0.4,
             "#fde0ef"
            ],
            [
             0.5,
             "#f7f7f7"
            ],
            [
             0.6,
             "#e6f5d0"
            ],
            [
             0.7,
             "#b8e186"
            ],
            [
             0.8,
             "#7fbc41"
            ],
            [
             0.9,
             "#4d9221"
            ],
            [
             1,
             "#276419"
            ]
           ],
           "sequential": [
            [
             0,
             "#0d0887"
            ],
            [
             0.1111111111111111,
             "#46039f"
            ],
            [
             0.2222222222222222,
             "#7201a8"
            ],
            [
             0.3333333333333333,
             "#9c179e"
            ],
            [
             0.4444444444444444,
             "#bd3786"
            ],
            [
             0.5555555555555556,
             "#d8576b"
            ],
            [
             0.6666666666666666,
             "#ed7953"
            ],
            [
             0.7777777777777778,
             "#fb9f3a"
            ],
            [
             0.8888888888888888,
             "#fdca26"
            ],
            [
             1,
             "#f0f921"
            ]
           ],
           "sequentialminus": [
            [
             0,
             "#0d0887"
            ],
            [
             0.1111111111111111,
             "#46039f"
            ],
            [
             0.2222222222222222,
             "#7201a8"
            ],
            [
             0.3333333333333333,
             "#9c179e"
            ],
            [
             0.4444444444444444,
             "#bd3786"
            ],
            [
             0.5555555555555556,
             "#d8576b"
            ],
            [
             0.6666666666666666,
             "#ed7953"
            ],
            [
             0.7777777777777778,
             "#fb9f3a"
            ],
            [
             0.8888888888888888,
             "#fdca26"
            ],
            [
             1,
             "#f0f921"
            ]
           ]
          },
          "colorway": [
           "#636efa",
           "#EF553B",
           "#00cc96",
           "#ab63fa",
           "#FFA15A",
           "#19d3f3",
           "#FF6692",
           "#B6E880",
           "#FF97FF",
           "#FECB52"
          ],
          "font": {
           "color": "#2a3f5f"
          },
          "geo": {
           "bgcolor": "white",
           "lakecolor": "white",
           "landcolor": "#E5ECF6",
           "showlakes": true,
           "showland": true,
           "subunitcolor": "white"
          },
          "hoverlabel": {
           "align": "left"
          },
          "hovermode": "closest",
          "mapbox": {
           "style": "light"
          },
          "paper_bgcolor": "white",
          "plot_bgcolor": "#E5ECF6",
          "polar": {
           "angularaxis": {
            "gridcolor": "white",
            "linecolor": "white",
            "ticks": ""
           },
           "bgcolor": "#E5ECF6",
           "radialaxis": {
            "gridcolor": "white",
            "linecolor": "white",
            "ticks": ""
           }
          },
          "scene": {
           "xaxis": {
            "backgroundcolor": "#E5ECF6",
            "gridcolor": "white",
            "gridwidth": 2,
            "linecolor": "white",
            "showbackground": true,
            "ticks": "",
            "zerolinecolor": "white"
           },
           "yaxis": {
            "backgroundcolor": "#E5ECF6",
            "gridcolor": "white",
            "gridwidth": 2,
            "linecolor": "white",
            "showbackground": true,
            "ticks": "",
            "zerolinecolor": "white"
           },
           "zaxis": {
            "backgroundcolor": "#E5ECF6",
            "gridcolor": "white",
            "gridwidth": 2,
            "linecolor": "white",
            "showbackground": true,
            "ticks": "",
            "zerolinecolor": "white"
           }
          },
          "shapedefaults": {
           "line": {
            "color": "#2a3f5f"
           }
          },
          "ternary": {
           "aaxis": {
            "gridcolor": "white",
            "linecolor": "white",
            "ticks": ""
           },
           "baxis": {
            "gridcolor": "white",
            "linecolor": "white",
            "ticks": ""
           },
           "bgcolor": "#E5ECF6",
           "caxis": {
            "gridcolor": "white",
            "linecolor": "white",
            "ticks": ""
           }
          },
          "title": {
           "x": 0.05
          },
          "xaxis": {
           "automargin": true,
           "gridcolor": "white",
           "linecolor": "white",
           "ticks": "",
           "title": {
            "standoff": 15
           },
           "zerolinecolor": "white",
           "zerolinewidth": 2
          },
          "yaxis": {
           "automargin": true,
           "gridcolor": "white",
           "linecolor": "white",
           "ticks": "",
           "title": {
            "standoff": 15
           },
           "zerolinecolor": "white",
           "zerolinewidth": 2
          }
         }
        },
        "title": {
         "text": "Distribution of Ratings for Alexa"
        }
       }
      },
      "text/html": [
       "<div>\n",
       "        \n",
       "        \n",
       "            <div id=\"ec0c4865-76af-42be-8232-4ee731c80b39\" class=\"plotly-graph-div\" style=\"height:525px; width:100%;\"></div>\n",
       "            <script type=\"text/javascript\">\n",
       "                require([\"plotly\"], function(Plotly) {\n",
       "                    window.PLOTLYENV=window.PLOTLYENV || {};\n",
       "                    \n",
       "                if (document.getElementById(\"ec0c4865-76af-42be-8232-4ee731c80b39\")) {\n",
       "                    Plotly.newPlot(\n",
       "                        'ec0c4865-76af-42be-8232-4ee731c80b39',\n",
       "                        [{\"hole\": 0.3, \"labels\": [5, 4, 1, 3, 2], \"marker\": {\"colors\": [\"pink\", \"lightblue\", \"aqua\", \"gold\", \"crimson\"]}, \"name\": \"Alexa\", \"type\": \"pie\", \"values\": [2286, 455, 161, 152, 96]}],\n",
       "                        {\"template\": {\"data\": {\"bar\": [{\"error_x\": {\"color\": \"#2a3f5f\"}, \"error_y\": {\"color\": \"#2a3f5f\"}, \"marker\": {\"line\": {\"color\": \"#E5ECF6\", \"width\": 0.5}}, \"type\": \"bar\"}], \"barpolar\": [{\"marker\": {\"line\": {\"color\": \"#E5ECF6\", \"width\": 0.5}}, \"type\": \"barpolar\"}], \"carpet\": [{\"aaxis\": {\"endlinecolor\": \"#2a3f5f\", \"gridcolor\": \"white\", \"linecolor\": \"white\", \"minorgridcolor\": \"white\", \"startlinecolor\": \"#2a3f5f\"}, \"baxis\": {\"endlinecolor\": \"#2a3f5f\", \"gridcolor\": \"white\", \"linecolor\": \"white\", \"minorgridcolor\": \"white\", \"startlinecolor\": \"#2a3f5f\"}, \"type\": \"carpet\"}], \"choropleth\": [{\"colorbar\": {\"outlinewidth\": 0, \"ticks\": \"\"}, \"type\": \"choropleth\"}], \"contour\": [{\"colorbar\": {\"outlinewidth\": 0, \"ticks\": \"\"}, \"colorscale\": [[0.0, \"#0d0887\"], [0.1111111111111111, \"#46039f\"], [0.2222222222222222, \"#7201a8\"], [0.3333333333333333, \"#9c179e\"], [0.4444444444444444, \"#bd3786\"], [0.5555555555555556, \"#d8576b\"], [0.6666666666666666, \"#ed7953\"], [0.7777777777777778, \"#fb9f3a\"], [0.8888888888888888, \"#fdca26\"], [1.0, \"#f0f921\"]], \"type\": \"contour\"}], \"contourcarpet\": [{\"colorbar\": {\"outlinewidth\": 0, \"ticks\": \"\"}, \"type\": \"contourcarpet\"}], \"heatmap\": [{\"colorbar\": {\"outlinewidth\": 0, \"ticks\": \"\"}, \"colorscale\": [[0.0, \"#0d0887\"], [0.1111111111111111, \"#46039f\"], [0.2222222222222222, \"#7201a8\"], [0.3333333333333333, \"#9c179e\"], [0.4444444444444444, \"#bd3786\"], [0.5555555555555556, \"#d8576b\"], [0.6666666666666666, \"#ed7953\"], [0.7777777777777778, \"#fb9f3a\"], [0.8888888888888888, \"#fdca26\"], [1.0, \"#f0f921\"]], \"type\": \"heatmap\"}], \"heatmapgl\": [{\"colorbar\": {\"outlinewidth\": 0, \"ticks\": \"\"}, \"colorscale\": [[0.0, \"#0d0887\"], [0.1111111111111111, \"#46039f\"], [0.2222222222222222, \"#7201a8\"], [0.3333333333333333, \"#9c179e\"], [0.4444444444444444, \"#bd3786\"], [0.5555555555555556, \"#d8576b\"], [0.6666666666666666, \"#ed7953\"], [0.7777777777777778, \"#fb9f3a\"], [0.8888888888888888, \"#fdca26\"], [1.0, \"#f0f921\"]], \"type\": \"heatmapgl\"}], \"histogram\": [{\"marker\": {\"colorbar\": {\"outlinewidth\": 0, \"ticks\": \"\"}}, \"type\": \"histogram\"}], \"histogram2d\": [{\"colorbar\": {\"outlinewidth\": 0, \"ticks\": \"\"}, \"colorscale\": [[0.0, \"#0d0887\"], [0.1111111111111111, \"#46039f\"], [0.2222222222222222, \"#7201a8\"], [0.3333333333333333, \"#9c179e\"], [0.4444444444444444, \"#bd3786\"], [0.5555555555555556, \"#d8576b\"], [0.6666666666666666, \"#ed7953\"], [0.7777777777777778, \"#fb9f3a\"], [0.8888888888888888, \"#fdca26\"], [1.0, \"#f0f921\"]], \"type\": \"histogram2d\"}], \"histogram2dcontour\": [{\"colorbar\": {\"outlinewidth\": 0, \"ticks\": \"\"}, \"colorscale\": [[0.0, \"#0d0887\"], [0.1111111111111111, \"#46039f\"], [0.2222222222222222, \"#7201a8\"], [0.3333333333333333, \"#9c179e\"], [0.4444444444444444, \"#bd3786\"], [0.5555555555555556, \"#d8576b\"], [0.6666666666666666, \"#ed7953\"], [0.7777777777777778, \"#fb9f3a\"], [0.8888888888888888, \"#fdca26\"], [1.0, \"#f0f921\"]], \"type\": \"histogram2dcontour\"}], \"mesh3d\": [{\"colorbar\": {\"outlinewidth\": 0, \"ticks\": \"\"}, \"type\": \"mesh3d\"}], \"parcoords\": [{\"line\": {\"colorbar\": {\"outlinewidth\": 0, \"ticks\": \"\"}}, \"type\": \"parcoords\"}], \"pie\": [{\"automargin\": true, \"type\": \"pie\"}], \"scatter\": [{\"marker\": {\"colorbar\": {\"outlinewidth\": 0, \"ticks\": \"\"}}, \"type\": \"scatter\"}], \"scatter3d\": [{\"line\": {\"colorbar\": {\"outlinewidth\": 0, \"ticks\": \"\"}}, \"marker\": {\"colorbar\": {\"outlinewidth\": 0, \"ticks\": \"\"}}, \"type\": \"scatter3d\"}], \"scattercarpet\": [{\"marker\": {\"colorbar\": {\"outlinewidth\": 0, \"ticks\": \"\"}}, \"type\": \"scattercarpet\"}], \"scattergeo\": [{\"marker\": {\"colorbar\": {\"outlinewidth\": 0, \"ticks\": \"\"}}, \"type\": \"scattergeo\"}], \"scattergl\": [{\"marker\": {\"colorbar\": {\"outlinewidth\": 0, \"ticks\": \"\"}}, \"type\": \"scattergl\"}], \"scattermapbox\": [{\"marker\": {\"colorbar\": {\"outlinewidth\": 0, \"ticks\": \"\"}}, \"type\": \"scattermapbox\"}], \"scatterpolar\": [{\"marker\": {\"colorbar\": {\"outlinewidth\": 0, \"ticks\": \"\"}}, \"type\": \"scatterpolar\"}], \"scatterpolargl\": [{\"marker\": {\"colorbar\": {\"outlinewidth\": 0, \"ticks\": \"\"}}, \"type\": \"scatterpolargl\"}], \"scatterternary\": [{\"marker\": {\"colorbar\": {\"outlinewidth\": 0, \"ticks\": \"\"}}, \"type\": \"scatterternary\"}], \"surface\": [{\"colorbar\": {\"outlinewidth\": 0, \"ticks\": \"\"}, \"colorscale\": [[0.0, \"#0d0887\"], [0.1111111111111111, \"#46039f\"], [0.2222222222222222, \"#7201a8\"], [0.3333333333333333, \"#9c179e\"], [0.4444444444444444, \"#bd3786\"], [0.5555555555555556, \"#d8576b\"], [0.6666666666666666, \"#ed7953\"], [0.7777777777777778, \"#fb9f3a\"], [0.8888888888888888, \"#fdca26\"], [1.0, \"#f0f921\"]], \"type\": \"surface\"}], \"table\": [{\"cells\": {\"fill\": {\"color\": \"#EBF0F8\"}, \"line\": {\"color\": \"white\"}}, \"header\": {\"fill\": {\"color\": \"#C8D4E3\"}, \"line\": {\"color\": \"white\"}}, \"type\": \"table\"}]}, \"layout\": {\"annotationdefaults\": {\"arrowcolor\": \"#2a3f5f\", \"arrowhead\": 0, \"arrowwidth\": 1}, \"coloraxis\": {\"colorbar\": {\"outlinewidth\": 0, \"ticks\": \"\"}}, \"colorscale\": {\"diverging\": [[0, \"#8e0152\"], [0.1, \"#c51b7d\"], [0.2, \"#de77ae\"], [0.3, \"#f1b6da\"], [0.4, \"#fde0ef\"], [0.5, \"#f7f7f7\"], [0.6, \"#e6f5d0\"], [0.7, \"#b8e186\"], [0.8, \"#7fbc41\"], [0.9, \"#4d9221\"], [1, \"#276419\"]], \"sequential\": [[0.0, \"#0d0887\"], [0.1111111111111111, \"#46039f\"], [0.2222222222222222, \"#7201a8\"], [0.3333333333333333, \"#9c179e\"], [0.4444444444444444, \"#bd3786\"], [0.5555555555555556, \"#d8576b\"], [0.6666666666666666, \"#ed7953\"], [0.7777777777777778, \"#fb9f3a\"], [0.8888888888888888, \"#fdca26\"], [1.0, \"#f0f921\"]], \"sequentialminus\": [[0.0, \"#0d0887\"], [0.1111111111111111, \"#46039f\"], [0.2222222222222222, \"#7201a8\"], [0.3333333333333333, \"#9c179e\"], [0.4444444444444444, \"#bd3786\"], [0.5555555555555556, \"#d8576b\"], [0.6666666666666666, \"#ed7953\"], [0.7777777777777778, \"#fb9f3a\"], [0.8888888888888888, \"#fdca26\"], [1.0, \"#f0f921\"]]}, \"colorway\": [\"#636efa\", \"#EF553B\", \"#00cc96\", \"#ab63fa\", \"#FFA15A\", \"#19d3f3\", \"#FF6692\", \"#B6E880\", \"#FF97FF\", \"#FECB52\"], \"font\": {\"color\": \"#2a3f5f\"}, \"geo\": {\"bgcolor\": \"white\", \"lakecolor\": \"white\", \"landcolor\": \"#E5ECF6\", \"showlakes\": true, \"showland\": true, \"subunitcolor\": \"white\"}, \"hoverlabel\": {\"align\": \"left\"}, \"hovermode\": \"closest\", \"mapbox\": {\"style\": \"light\"}, \"paper_bgcolor\": \"white\", \"plot_bgcolor\": \"#E5ECF6\", \"polar\": {\"angularaxis\": {\"gridcolor\": \"white\", \"linecolor\": \"white\", \"ticks\": \"\"}, \"bgcolor\": \"#E5ECF6\", \"radialaxis\": {\"gridcolor\": \"white\", \"linecolor\": \"white\", \"ticks\": \"\"}}, \"scene\": {\"xaxis\": {\"backgroundcolor\": \"#E5ECF6\", \"gridcolor\": \"white\", \"gridwidth\": 2, \"linecolor\": \"white\", \"showbackground\": true, \"ticks\": \"\", \"zerolinecolor\": \"white\"}, \"yaxis\": {\"backgroundcolor\": \"#E5ECF6\", \"gridcolor\": \"white\", \"gridwidth\": 2, \"linecolor\": \"white\", \"showbackground\": true, \"ticks\": \"\", \"zerolinecolor\": \"white\"}, \"zaxis\": {\"backgroundcolor\": \"#E5ECF6\", \"gridcolor\": \"white\", \"gridwidth\": 2, \"linecolor\": \"white\", \"showbackground\": true, \"ticks\": \"\", \"zerolinecolor\": \"white\"}}, \"shapedefaults\": {\"line\": {\"color\": \"#2a3f5f\"}}, \"ternary\": {\"aaxis\": {\"gridcolor\": \"white\", \"linecolor\": \"white\", \"ticks\": \"\"}, \"baxis\": {\"gridcolor\": \"white\", \"linecolor\": \"white\", \"ticks\": \"\"}, \"bgcolor\": \"#E5ECF6\", \"caxis\": {\"gridcolor\": \"white\", \"linecolor\": \"white\", \"ticks\": \"\"}}, \"title\": {\"x\": 0.05}, \"xaxis\": {\"automargin\": true, \"gridcolor\": \"white\", \"linecolor\": \"white\", \"ticks\": \"\", \"title\": {\"standoff\": 15}, \"zerolinecolor\": \"white\", \"zerolinewidth\": 2}, \"yaxis\": {\"automargin\": true, \"gridcolor\": \"white\", \"linecolor\": \"white\", \"ticks\": \"\", \"title\": {\"standoff\": 15}, \"zerolinecolor\": \"white\", \"zerolinewidth\": 2}}}, \"title\": {\"text\": \"Distribution of Ratings for Alexa\"}},\n",
       "                        {\"responsive\": true}\n",
       "                    ).then(function(){\n",
       "                            \n",
       "var gd = document.getElementById('ec0c4865-76af-42be-8232-4ee731c80b39');\n",
       "var x = new MutationObserver(function (mutations, observer) {{\n",
       "        var display = window.getComputedStyle(gd).display;\n",
       "        if (!display || display === 'none') {{\n",
       "            console.log([gd, 'removed!']);\n",
       "            Plotly.purge(gd);\n",
       "            observer.disconnect();\n",
       "        }}\n",
       "}});\n",
       "\n",
       "// Listen for the removal of the full notebook cells\n",
       "var notebookContainer = gd.closest('#notebook-container');\n",
       "if (notebookContainer) {{\n",
       "    x.observe(notebookContainer, {childList: true});\n",
       "}}\n",
       "\n",
       "// Listen for the clearing of the current output cell\n",
       "var outputEl = gd.closest('.output');\n",
       "if (outputEl) {{\n",
       "    x.observe(outputEl, {childList: true});\n",
       "}}\n",
       "\n",
       "                        })\n",
       "                };\n",
       "                });\n",
       "            </script>\n",
       "        </div>"
      ]
     },
     "metadata": {},
     "output_type": "display_data"
    }
   ],
   "source": [
    "ratings = data['rating'].value_counts()\n",
    "\n",
    "label_rating = ratings.index\n",
    "size_rating = ratings.values\n",
    "\n",
    "colors = ['pink', 'lightblue', 'aqua', 'gold', 'crimson']\n",
    "\n",
    "rating_piechart = go.Pie(labels = label_rating,\n",
    "                         values = size_rating,\n",
    "                         marker = dict(colors = colors),\n",
    "                         name = 'Alexa', hole = 0.3)\n",
    "df = [rating_piechart]\n",
    "\n",
    "layout = go.Layout(title = 'Distribution of Ratings for Alexa')\n",
    "\n",
    "fig = go.Figure(data = df,\n",
    "                 layout = layout)\n",
    "\n",
    "py.iplot(fig)"
   ]
  },
  {
   "cell_type": "code",
   "execution_count": 14,
   "metadata": {},
   "outputs": [
    {
     "data": {
      "image/png": "[encoded data removed]",
      "text/plain": [
       "<Figure size 1080x648 with 1 Axes>"
      ]
     },
     "metadata": {},
     "output_type": "display_data"
    }
   ],
   "source": [
    "color = plt.cm.copper(np.linspace(0, 1, 15))\n",
    "data['variation'].value_counts().plot.bar(color = color, figsize = (15, 9))\n",
    "plt.title('Distribution of Variations in Alexa', fontsize = 20)\n",
    "plt.xlabel('variations')\n",
    "plt.ylabel('count')\n",
    "plt.show()"
   ]
  },
  {
   "cell_type": "code",
   "execution_count": 15,
   "metadata": {},
   "outputs": [
    {
     "data": {
      "application/vnd.plotly.v1+json": {
       "config": {
        "linkText": "Export to plot.ly",
        "plotlyServerURL": "https://plot.ly",
        "showLink": false
       },
       "data": [
        {
         "hole": 0.3,
         "labels": [
          1,
          0
         ],
         "marker": {
          "colors": [
           "yellow",
           "lightgreen"
          ]
         },
         "name": "Alexa",
         "type": "pie",
         "values": [
          2893,
          257
         ]
        }
       ],
       "layout": {
        "template": {
         "data": {
          "bar": [
           {
            "error_x": {
             "color": "#2a3f5f"
            },
            "error_y": {
             "color": "#2a3f5f"
            },
            "marker": {
             "line": {
              "color": "#E5ECF6",
              "width": 0.5
             }
            },
            "type": "bar"
           }
          ],
          "barpolar": [
           {
            "marker": {
             "line": {
              "color": "#E5ECF6",
              "width": 0.5
             }
            },
            "type": "barpolar"
           }
          ],
          "carpet": [
           {
            "aaxis": {
             "endlinecolor": "#2a3f5f",
             "gridcolor": "white",
             "linecolor": "white",
             "minorgridcolor": "white",
             "startlinecolor": "#2a3f5f"
            },
            "baxis": {
             "endlinecolor": "#2a3f5f",
             "gridcolor": "white",
             "linecolor": "white",
             "minorgridcolor": "white",
             "startlinecolor": "#2a3f5f"
            },
            "type": "carpet"
           }
          ],
          "choropleth": [
           {
            "colorbar": {
             "outlinewidth": 0,
             "ticks": ""
            },
            "type": "choropleth"
           }
          ],
          "contour": [
           {
            "colorbar": {
             "outlinewidth": 0,
             "ticks": ""
            },
            "colorscale": [
             [
              0,
              "#0d0887"
             ],
             [
              0.1111111111111111,
              "#46039f"
             ],
             [
              0.2222222222222222,
              "#7201a8"
             ],
             [
              0.3333333333333333,
              "#9c179e"
             ],
             [
              0.4444444444444444,
              "#bd3786"
             ],
             [
              0.5555555555555556,
              "#d8576b"
             ],
             [
              0.6666666666666666,
              "#ed7953"
             ],
             [
              0.7777777777777778,
              "#fb9f3a"
             ],
             [
              0.8888888888888888,
              "#fdca26"
             ],
             [
              1,
              "#f0f921"
             ]
            ],
            "type": "contour"
           }
          ],
          "contourcarpet": [
           {
            "colorbar": {
             "outlinewidth": 0,
             "ticks": ""
            },
            "type": "contourcarpet"
           }
          ],
          "heatmap": [
           {
            "colorbar": {
             "outlinewidth": 0,
             "ticks": ""
            },
            "colorscale": [
             [
              0,
              "#0d0887"
             ],
             [
              0.1111111111111111,
              "#46039f"
             ],
             [
              0.2222222222222222,
              "#7201a8"
             ],
             [
              0.3333333333333333,
              "#9c179e"
             ],
             [
              0.4444444444444444,
              "#bd3786"
             ],
             [
              0.5555555555555556,
              "#d8576b"
             ],
             [
              0.6666666666666666,
              "#ed7953"
             ],
             [
              0.7777777777777778,
              "#fb9f3a"
             ],
             [
              0.8888888888888888,
              "#fdca26"
             ],
             [
              1,
              "#f0f921"
             ]
            ],
            "type": "heatmap"
           }
          ],
          "heatmapgl": [
           {
            "colorbar": {
             "outlinewidth": 0,
             "ticks": ""
            },
            "colorscale": [
             [
              0,
              "#0d0887"
             ],
             [
              0.1111111111111111,
              "#46039f"
             ],
             [
              0.2222222222222222,
              "#7201a8"
             ],
             [
              0.3333333333333333,
              "#9c179e"
             ],
             [
              0.4444444444444444,
              "#bd3786"
             ],
             [
              0.5555555555555556,
              "#d8576b"
             ],
             [
              0.6666666666666666,
              "#ed7953"
             ],
             [
              0.7777777777777778,
              "#fb9f3a"
             ],
             [
              0.8888888888888888,
              "#fdca26"
             ],
             [
              1,
              "#f0f921"
             ]
            ],
            "type": "heatmapgl"
           }
          ],
          "histogram": [
           {
            "marker": {
             "colorbar": {
              "outlinewidth": 0,
              "ticks": ""
             }
            },
            "type": "histogram"
           }
          ],
          "histogram2d": [
           {
            "colorbar": {
             "outlinewidth": 0,
             "ticks": ""
            },
            "colorscale": [
             [
              0,
              "#0d0887"
             ],
             [
              0.1111111111111111,
              "#46039f"
             ],
             [
              0.2222222222222222,
              "#7201a8"
             ],
             [
              0.3333333333333333,
              "#9c179e"
             ],
             [
              0.4444444444444444,
              "#bd3786"
             ],
             [
              0.5555555555555556,
              "#d8576b"
             ],
             [
              0.6666666666666666,
              "#ed7953"
             ],
             [
              0.7777777777777778,
              "#fb9f3a"
             ],
             [
              0.8888888888888888,
              "#fdca26"
             ],
             [
              1,
              "#f0f921"
             ]
            ],
            "type": "histogram2d"
           }
          ],
          "histogram2dcontour": [
           {
            "colorbar": {
             "outlinewidth": 0,
             "ticks": ""
            },
            "colorscale": [
             [
              0,
              "#0d0887"
             ],
             [
              0.1111111111111111,
              "#46039f"
             ],
             [
              0.2222222222222222,
              "#7201a8"
             ],
             [
              0.3333333333333333,
              "#9c179e"
             ],
             [
              0.4444444444444444,
              "#bd3786"
             ],
             [
              0.5555555555555556,
              "#d8576b"
             ],
             [
              0.6666666666666666,
              "#ed7953"
             ],
             [
              0.7777777777777778,
              "#fb9f3a"
             ],
             [
              0.8888888888888888,
              "#fdca26"
             ],
             [
              1,
              "#f0f921"
             ]
            ],
            "type": "histogram2dcontour"
           }
          ],
          "mesh3d": [
           {
            "colorbar": {
             "outlinewidth": 0,
             "ticks": ""
            },
            "type": "mesh3d"
           }
          ],
          "parcoords": [
           {
            "line": {
             "colorbar": {
              "outlinewidth": 0,
              "ticks": ""
             }
            },
            "type": "parcoords"
           }
          ],
          "pie": [
           {
            "automargin": true,
            "type": "pie"
           }
          ],
          "scatter": [
           {
            "marker": {
             "colorbar": {
              "outlinewidth": 0,
              "ticks": ""
             }
            },
            "type": "scatter"
           }
          ],
          "scatter3d": [
           {
            "line": {
             "colorbar": {
              "outlinewidth": 0,
              "ticks": ""
             }
            },
            "marker": {
             "colorbar": {
              "outlinewidth": 0,
              "ticks": ""
             }
            },
            "type": "scatter3d"
           }
          ],
          "scattercarpet": [
           {
            "marker": {
             "colorbar": {
              "outlinewidth": 0,
              "ticks": ""
             }
            },
            "type": "scattercarpet"
           }
          ],
          "scattergeo": [
           {
            "marker": {
             "colorbar": {
              "outlinewidth": 0,
              "ticks": ""
             }
            },
            "type": "scattergeo"
           }
          ],
          "scattergl": [
           {
            "marker": {
             "colorbar": {
              "outlinewidth": 0,
              "ticks": ""
             }
            },
            "type": "scattergl"
           }
          ],
          "scattermapbox": [
           {
            "marker": {
             "colorbar": {
              "outlinewidth": 0,
              "ticks": ""
             }
            },
            "type": "scattermapbox"
           }
          ],
          "scatterpolar": [
           {
            "marker": {
             "colorbar": {
              "outlinewidth": 0,
              "ticks": ""
             }
            },
            "type": "scatterpolar"
           }
          ],
          "scatterpolargl": [
           {
            "marker": {
             "colorbar": {
              "outlinewidth": 0,
              "ticks": ""
             }
            },
            "type": "scatterpolargl"
           }
          ],
          "scatterternary": [
           {
            "marker": {
             "colorbar": {
              "outlinewidth": 0,
              "ticks": ""
             }
            },
            "type": "scatterternary"
           }
          ],
          "surface": [
           {
            "colorbar": {
             "outlinewidth": 0,
             "ticks": ""
            },
            "colorscale": [
             [
              0,
              "#0d0887"
             ],
             [
              0.1111111111111111,
              "#46039f"
             ],
             [
              0.2222222222222222,
              "#7201a8"
             ],
             [
              0.3333333333333333,
              "#9c179e"
             ],
             [
              0.4444444444444444,
              "#bd3786"
             ],
             [
              0.5555555555555556,
              "#d8576b"
             ],
             [
              0.6666666666666666,
              "#ed7953"
             ],
             [
              0.7777777777777778,
              "#fb9f3a"
             ],
             [
              0.8888888888888888,
              "#fdca26"
             ],
             [
              1,
              "#f0f921"
             ]
            ],
            "type": "surface"
           }
          ],
          "table": [
           {
            "cells": {
             "fill": {
              "color": "#EBF0F8"
             },
             "line": {
              "color": "white"
             }
            },
            "header": {
             "fill": {
              "color": "#C8D4E3"
             },
             "line": {
              "color": "white"
             }
            },
            "type": "table"
           }
          ]
         },
         "layout": {
          "annotationdefaults": {
           "arrowcolor": "#2a3f5f",
           "arrowhead": 0,
           "arrowwidth": 1
          },
          "coloraxis": {
           "colorbar": {
            "outlinewidth": 0,
            "ticks": ""
           }
          },
          "colorscale": {
           "diverging": [
            [
             0,
             "#8e0152"
            ],
            [
             0.1,
             "#c51b7d"
            ],
            [
             0.2,
             "#de77ae"
            ],
            [
             0.3,
             "#f1b6da"
            ],
            [
             0.4,
             "#fde0ef"
            ],
            [
             0.5,
             "#f7f7f7"
            ],
            [
             0.6,
             "#e6f5d0"
            ],
            [
             0.7,
             "#b8e186"
            ],
            [
             0.8,
             "#7fbc41"
            ],
            [
             0.9,
             "#4d9221"
            ],
            [
             1,
             "#276419"
            ]
           ],
           "sequential": [
            [
             0,
             "#0d0887"
            ],
            [
             0.1111111111111111,
             "#46039f"
            ],
            [
             0.2222222222222222,
             "#7201a8"
            ],
            [
             0.3333333333333333,
             "#9c179e"
            ],
            [
             0.4444444444444444,
             "#bd3786"
            ],
            [
             0.5555555555555556,
             "#d8576b"
            ],
            [
             0.6666666666666666,
             "#ed7953"
            ],
            [
             0.7777777777777778,
             "#fb9f3a"
            ],
            [
             0.8888888888888888,
             "#fdca26"
            ],
            [
             1,
             "#f0f921"
            ]
           ],
           "sequentialminus": [
            [
             0,
             "#0d0887"
            ],
            [
             0.1111111111111111,
             "#46039f"
            ],
            [
             0.2222222222222222,
             "#7201a8"
            ],
            [
             0.3333333333333333,
             "#9c179e"
            ],
            [
             0.4444444444444444,
             "#bd3786"
            ],
            [
             0.5555555555555556,
             "#d8576b"
            ],
            [
             0.6666666666666666,
             "#ed7953"
            ],
            [
             0.7777777777777778,
             "#fb9f3a"
            ],
            [
             0.8888888888888888,
             "#fdca26"
            ],
            [
             1,
             "#f0f921"
            ]
           ]
          },
          "colorway": [
           "#636efa",
           "#EF553B",
           "#00cc96",
           "#ab63fa",
           "#FFA15A",
           "#19d3f3",
           "#FF6692",
           "#B6E880",
           "#FF97FF",
           "#FECB52"
          ],
          "font": {
           "color": "#2a3f5f"
          },
          "geo": {
           "bgcolor": "white",
           "lakecolor": "white",
           "landcolor": "#E5ECF6",
           "showlakes": true,
           "showland": true,
           "subunitcolor": "white"
          },
          "hoverlabel": {
           "align": "left"
          },
          "hovermode": "closest",
          "mapbox": {
           "style": "light"
          },
          "paper_bgcolor": "white",
          "plot_bgcolor": "#E5ECF6",
          "polar": {
           "angularaxis": {
            "gridcolor": "white",
            "linecolor": "white",
            "ticks": ""
           },
           "bgcolor": "#E5ECF6",
           "radialaxis": {
            "gridcolor": "white",
            "linecolor": "white",
            "ticks": ""
           }
          },
          "scene": {
           "xaxis": {
            "backgroundcolor": "#E5ECF6",
            "gridcolor": "white",
            "gridwidth": 2,
            "linecolor": "white",
            "showbackground": true,
            "ticks": "",
            "zerolinecolor": "white"
           },
           "yaxis": {
            "backgroundcolor": "#E5ECF6",
            "gridcolor": "white",
            "gridwidth": 2,
            "linecolor": "white",
            "showbackground": true,
            "ticks": "",
            "zerolinecolor": "white"
           },
           "zaxis": {
            "backgroundcolor": "#E5ECF6",
            "gridcolor": "white",
            "gridwidth": 2,
            "linecolor": "white",
            "showbackground": true,
            "ticks": "",
            "zerolinecolor": "white"
           }
          },
          "shapedefaults": {
           "line": {
            "color": "#2a3f5f"
           }
          },
          "ternary": {
           "aaxis": {
            "gridcolor": "white",
            "linecolor": "white",
            "ticks": ""
           },
           "baxis": {
            "gridcolor": "white",
            "linecolor": "white",
            "ticks": ""
           },
           "bgcolor": "#E5ECF6",
           "caxis": {
            "gridcolor": "white",
            "linecolor": "white",
            "ticks": ""
           }
          },
          "title": {
           "x": 0.05
          },
          "xaxis": {
           "automargin": true,
           "gridcolor": "white",
           "linecolor": "white",
           "ticks": "",
           "title": {
            "standoff": 15
           },
           "zerolinecolor": "white",
           "zerolinewidth": 2
          },
          "yaxis": {
           "automargin": true,
           "gridcolor": "white",
           "linecolor": "white",
           "ticks": "",
           "title": {
            "standoff": 15
           },
           "zerolinecolor": "white",
           "zerolinewidth": 2
          }
         }
        },
        "title": {
         "text": "Distribution of Reviews for Alexa"
        }
       }
      },
      "text/html": [
       "<div>\n",
       "        \n",
       "        \n",
       "            <div id=\"f11fe6b9-be94-467f-a520-5e1704a6ff0e\" class=\"plotly-graph-div\" style=\"height:525px; width:100%;\"></div>\n",
       "            <script type=\"text/javascript\">\n",
       "                require([\"plotly\"], function(Plotly) {\n",
       "                    window.PLOTLYENV=window.PLOTLYENV || {};\n",
       "                    \n",
       "                if (document.getElementById(\"f11fe6b9-be94-467f-a520-5e1704a6ff0e\")) {\n",
       "                    Plotly.newPlot(\n",
       "                        'f11fe6b9-be94-467f-a520-5e1704a6ff0e',\n",
       "                        [{\"hole\": 0.3, \"labels\": [1, 0], \"marker\": {\"colors\": [\"yellow\", \"lightgreen\"]}, \"name\": \"Alexa\", \"type\": \"pie\", \"values\": [2893, 257]}],\n",
       "                        {\"template\": {\"data\": {\"bar\": [{\"error_x\": {\"color\": \"#2a3f5f\"}, \"error_y\": {\"color\": \"#2a3f5f\"}, \"marker\": {\"line\": {\"color\": \"#E5ECF6\", \"width\": 0.5}}, \"type\": \"bar\"}], \"barpolar\": [{\"marker\": {\"line\": {\"color\": \"#E5ECF6\", \"width\": 0.5}}, \"type\": \"barpolar\"}], \"carpet\": [{\"aaxis\": {\"endlinecolor\": \"#2a3f5f\", \"gridcolor\": \"white\", \"linecolor\": \"white\", \"minorgridcolor\": \"white\", \"startlinecolor\": \"#2a3f5f\"}, \"baxis\": {\"endlinecolor\": \"#2a3f5f\", \"gridcolor\": \"white\", \"linecolor\": \"white\", \"minorgridcolor\": \"white\", \"startlinecolor\": \"#2a3f5f\"}, \"type\": \"carpet\"}], \"choropleth\": [{\"colorbar\": {\"outlinewidth\": 0, \"ticks\": \"\"}, \"type\": \"choropleth\"}], \"contour\": [{\"colorbar\": {\"outlinewidth\": 0, \"ticks\": \"\"}, \"colorscale\": [[0.0, \"#0d0887\"], [0.1111111111111111, \"#46039f\"], [0.2222222222222222, \"#7201a8\"], [0.3333333333333333, \"#9c179e\"], [0.4444444444444444, \"#bd3786\"], [0.5555555555555556, \"#d8576b\"], [0.6666666666666666, \"#ed7953\"], [0.7777777777777778, \"#fb9f3a\"], [0.8888888888888888, \"#fdca26\"], [1.0, \"#f0f921\"]], \"type\": \"contour\"}], \"contourcarpet\": [{\"colorbar\": {\"outlinewidth\": 0, \"ticks\": \"\"}, \"type\": \"contourcarpet\"}], \"heatmap\": [{\"colorbar\": {\"outlinewidth\": 0, \"ticks\": \"\"}, \"colorscale\": [[0.0, \"#0d0887\"], [0.1111111111111111, \"#46039f\"], [0.2222222222222222, \"#7201a8\"], [0.3333333333333333, \"#9c179e\"], [0.4444444444444444, \"#bd3786\"], [0.5555555555555556, \"#d8576b\"], [0.6666666666666666, \"#ed7953\"], [0.7777777777777778, \"#fb9f3a\"], [0.8888888888888888, \"#fdca26\"], [1.0, \"#f0f921\"]], \"type\": \"heatmap\"}], \"heatmapgl\": [{\"colorbar\": {\"outlinewidth\": 0, \"ticks\": \"\"}, \"colorscale\": [[0.0, \"#0d0887\"], [0.1111111111111111, \"#46039f\"], [0.2222222222222222, \"#7201a8\"], [0.3333333333333333, \"#9c179e\"], [0.4444444444444444, \"#bd3786\"], [0.5555555555555556, \"#d8576b\"], [0.6666666666666666, \"#ed7953\"], [0.7777777777777778, \"#fb9f3a\"], [0.8888888888888888, \"#fdca26\"], [1.0, \"#f0f921\"]], \"type\": \"heatmapgl\"}], \"histogram\": [{\"marker\": {\"colorbar\": {\"outlinewidth\": 0, \"ticks\": \"\"}}, \"type\": \"histogram\"}], \"histogram2d\": [{\"colorbar\": {\"outlinewidth\": 0, \"ticks\": \"\"}, \"colorscale\": [[0.0, \"#0d0887\"], [0.1111111111111111, \"#46039f\"], [0.2222222222222222, \"#7201a8\"], [0.3333333333333333, \"#9c179e\"], [0.4444444444444444, \"#bd3786\"], [0.5555555555555556, \"#d8576b\"], [0.6666666666666666, \"#ed7953\"], [0.7777777777777778, \"#fb9f3a\"], [0.8888888888888888, \"#fdca26\"], [1.0, \"#f0f921\"]], \"type\": \"histogram2d\"}], \"histogram2dcontour\": [{\"colorbar\": {\"outlinewidth\": 0, \"ticks\": \"\"}, \"colorscale\": [[0.0, \"#0d0887\"], [0.1111111111111111, \"#46039f\"], [0.2222222222222222, \"#7201a8\"], [0.3333333333333333, \"#9c179e\"], [0.4444444444444444, \"#bd3786\"], [0.5555555555555556, \"#d8576b\"], [0.6666666666666666, \"#ed7953\"], [0.7777777777777778, \"#fb9f3a\"], [0.8888888888888888, \"#fdca26\"], [1.0, \"#f0f921\"]], \"type\": \"histogram2dcontour\"}], \"mesh3d\": [{\"colorbar\": {\"outlinewidth\": 0, \"ticks\": \"\"}, \"type\": \"mesh3d\"}], \"parcoords\": [{\"line\": {\"colorbar\": {\"outlinewidth\": 0, \"ticks\": \"\"}}, \"type\": \"parcoords\"}], \"pie\": [{\"automargin\": true, \"type\": \"pie\"}], \"scatter\": [{\"marker\": {\"colorbar\": {\"outlinewidth\": 0, \"ticks\": \"\"}}, \"type\": \"scatter\"}], \"scatter3d\": [{\"line\": {\"colorbar\": {\"outlinewidth\": 0, \"ticks\": \"\"}}, \"marker\": {\"colorbar\": {\"outlinewidth\": 0, \"ticks\": \"\"}}, \"type\": \"scatter3d\"}], \"scattercarpet\": [{\"marker\": {\"colorbar\": {\"outlinewidth\": 0, \"ticks\": \"\"}}, \"type\": \"scattercarpet\"}], \"scattergeo\": [{\"marker\": {\"colorbar\": {\"outlinewidth\": 0, \"ticks\": \"\"}}, \"type\": \"scattergeo\"}], \"scattergl\": [{\"marker\": {\"colorbar\": {\"outlinewidth\": 0, \"ticks\": \"\"}}, \"type\": \"scattergl\"}], \"scattermapbox\": [{\"marker\": {\"colorbar\": {\"outlinewidth\": 0, \"ticks\": \"\"}}, \"type\": \"scattermapbox\"}], \"scatterpolar\": [{\"marker\": {\"colorbar\": {\"outlinewidth\": 0, \"ticks\": \"\"}}, \"type\": \"scatterpolar\"}], \"scatterpolargl\": [{\"marker\": {\"colorbar\": {\"outlinewidth\": 0, \"ticks\": \"\"}}, \"type\": \"scatterpolargl\"}], \"scatterternary\": [{\"marker\": {\"colorbar\": {\"outlinewidth\": 0, \"ticks\": \"\"}}, \"type\": \"scatterternary\"}], \"surface\": [{\"colorbar\": {\"outlinewidth\": 0, \"ticks\": \"\"}, \"colorscale\": [[0.0, \"#0d0887\"], [0.1111111111111111, \"#46039f\"], [0.2222222222222222, \"#7201a8\"], [0.3333333333333333, \"#9c179e\"], [0.4444444444444444, \"#bd3786\"], [0.5555555555555556, \"#d8576b\"], [0.6666666666666666, \"#ed7953\"], [0.7777777777777778, \"#fb9f3a\"], [0.8888888888888888, \"#fdca26\"], [1.0, \"#f0f921\"]], \"type\": \"surface\"}], \"table\": [{\"cells\": {\"fill\": {\"color\": \"#EBF0F8\"}, \"line\": {\"color\": \"white\"}}, \"header\": {\"fill\": {\"color\": \"#C8D4E3\"}, \"line\": {\"color\": \"white\"}}, \"type\": \"table\"}]}, \"layout\": {\"annotationdefaults\": {\"arrowcolor\": \"#2a3f5f\", \"arrowhead\": 0, \"arrowwidth\": 1}, \"coloraxis\": {\"colorbar\": {\"outlinewidth\": 0, \"ticks\": \"\"}}, \"colorscale\": {\"diverging\": [[0, \"#8e0152\"], [0.1, \"#c51b7d\"], [0.2, \"#de77ae\"], [0.3, \"#f1b6da\"], [0.4, \"#fde0ef\"], [0.5, \"#f7f7f7\"], [0.6, \"#e6f5d0\"], [0.7, \"#b8e186\"], [0.8, \"#7fbc41\"], [0.9, \"#4d9221\"], [1, \"#276419\"]], \"sequential\": [[0.0, \"#0d0887\"], [0.1111111111111111, \"#46039f\"], [0.2222222222222222, \"#7201a8\"], [0.3333333333333333, \"#9c179e\"], [0.4444444444444444, \"#bd3786\"], [0.5555555555555556, \"#d8576b\"], [0.6666666666666666, \"#ed7953\"], [0.7777777777777778, \"#fb9f3a\"], [0.8888888888888888, \"#fdca26\"], [1.0, \"#f0f921\"]], \"sequentialminus\": [[0.0, \"#0d0887\"], [0.1111111111111111, \"#46039f\"], [0.2222222222222222, \"#7201a8\"], [0.3333333333333333, \"#9c179e\"], [0.4444444444444444, \"#bd3786\"], [0.5555555555555556, \"#d8576b\"], [0.6666666666666666, \"#ed7953\"], [0.7777777777777778, \"#fb9f3a\"], [0.8888888888888888, \"#fdca26\"], [1.0, \"#f0f921\"]]}, \"colorway\": [\"#636efa\", \"#EF553B\", \"#00cc96\", \"#ab63fa\", \"#FFA15A\", \"#19d3f3\", \"#FF6692\", \"#B6E880\", \"#FF97FF\", \"#FECB52\"], \"font\": {\"color\": \"#2a3f5f\"}, \"geo\": {\"bgcolor\": \"white\", \"lakecolor\": \"white\", \"landcolor\": \"#E5ECF6\", \"showlakes\": true, \"showland\": true, \"subunitcolor\": \"white\"}, \"hoverlabel\": {\"align\": \"left\"}, \"hovermode\": \"closest\", \"mapbox\": {\"style\": \"light\"}, \"paper_bgcolor\": \"white\", \"plot_bgcolor\": \"#E5ECF6\", \"polar\": {\"angularaxis\": {\"gridcolor\": \"white\", \"linecolor\": \"white\", \"ticks\": \"\"}, \"bgcolor\": \"#E5ECF6\", \"radialaxis\": {\"gridcolor\": \"white\", \"linecolor\": \"white\", \"ticks\": \"\"}}, \"scene\": {\"xaxis\": {\"backgroundcolor\": \"#E5ECF6\", \"gridcolor\": \"white\", \"gridwidth\": 2, \"linecolor\": \"white\", \"showbackground\": true, \"ticks\": \"\", \"zerolinecolor\": \"white\"}, \"yaxis\": {\"backgroundcolor\": \"#E5ECF6\", \"gridcolor\": \"white\", \"gridwidth\": 2, \"linecolor\": \"white\", \"showbackground\": true, \"ticks\": \"\", \"zerolinecolor\": \"white\"}, \"zaxis\": {\"backgroundcolor\": \"#E5ECF6\", \"gridcolor\": \"white\", \"gridwidth\": 2, \"linecolor\": \"white\", \"showbackground\": true, \"ticks\": \"\", \"zerolinecolor\": \"white\"}}, \"shapedefaults\": {\"line\": {\"color\": \"#2a3f5f\"}}, \"ternary\": {\"aaxis\": {\"gridcolor\": \"white\", \"linecolor\": \"white\", \"ticks\": \"\"}, \"baxis\": {\"gridcolor\": \"white\", \"linecolor\": \"white\", \"ticks\": \"\"}, \"bgcolor\": \"#E5ECF6\", \"caxis\": {\"gridcolor\": \"white\", \"linecolor\": \"white\", \"ticks\": \"\"}}, \"title\": {\"x\": 0.05}, \"xaxis\": {\"automargin\": true, \"gridcolor\": \"white\", \"linecolor\": \"white\", \"ticks\": \"\", \"title\": {\"standoff\": 15}, \"zerolinecolor\": \"white\", \"zerolinewidth\": 2}, \"yaxis\": {\"automargin\": true, \"gridcolor\": \"white\", \"linecolor\": \"white\", \"ticks\": \"\", \"title\": {\"standoff\": 15}, \"zerolinecolor\": \"white\", \"zerolinewidth\": 2}}}, \"title\": {\"text\": \"Distribution of Reviews for Alexa\"}},\n",
       "                        {\"responsive\": true}\n",
       "                    ).then(function(){\n",
       "                            \n",
       "var gd = document.getElementById('f11fe6b9-be94-467f-a520-5e1704a6ff0e');\n",
       "var x = new MutationObserver(function (mutations, observer) {{\n",
       "        var display = window.getComputedStyle(gd).display;\n",
       "        if (!display || display === 'none') {{\n",
       "            console.log([gd, 'removed!']);\n",
       "            Plotly.purge(gd);\n",
       "            observer.disconnect();\n",
       "        }}\n",
       "}});\n",
       "\n",
       "// Listen for the removal of the full notebook cells\n",
       "var notebookContainer = gd.closest('#notebook-container');\n",
       "if (notebookContainer) {{\n",
       "    x.observe(notebookContainer, {childList: true});\n",
       "}}\n",
       "\n",
       "// Listen for the clearing of the current output cell\n",
       "var outputEl = gd.closest('.output');\n",
       "if (outputEl) {{\n",
       "    x.observe(outputEl, {childList: true});\n",
       "}}\n",
       "\n",
       "                        })\n",
       "                };\n",
       "                });\n",
       "            </script>\n",
       "        </div>"
      ]
     },
     "metadata": {},
     "output_type": "display_data"
    }
   ],
   "source": [
    "Reviews = data['Reviews'].value_counts()\n",
    "\n",
    "label_Reviews = Reviews.index\n",
    "size_Reviews = Reviews.values\n",
    "\n",
    "colors = ['yellow', 'lightgreen']\n",
    "\n",
    "Reviews_piechart = go.Pie(labels = label_Reviews,\n",
    "                         values = size_Reviews,\n",
    "                         marker = dict(colors = colors),\n",
    "                         name = 'Alexa', hole = 0.3)\n",
    "\n",
    "df2 = [Reviews_piechart]\n",
    "\n",
    "layout = go.Layout( title = 'Distribution of Reviews for Alexa')\n",
    "\n",
    "fig = go.Figure(data = df2,\n",
    "                 layout = layout)\n",
    "\n",
    "py.iplot(fig)"
   ]
  },
  {
   "cell_type": "code",
   "execution_count": 70,
   "metadata": {},
   "outputs": [
    {
     "data": {
      "text/plain": [
       "0       1\n",
       "1       1\n",
       "2       1\n",
       "3       1\n",
       "4       1\n",
       "       ..\n",
       "3145    1\n",
       "3146    1\n",
       "3147    1\n",
       "3148    1\n",
       "3149    1\n",
       "Name: Reviews, Length: 3150, dtype: int64"
      ]
     },
     "execution_count": 70,
     "metadata": {},
     "output_type": "execute_result"
    }
   ],
   "source": [
    "data['Reviews']"
   ]
  },
  {
   "cell_type": "code",
   "execution_count": 17,
   "metadata": {},
   "outputs": [
    {
     "data": {
      "text/plain": [
       "'😍'"
      ]
     },
     "execution_count": 17,
     "metadata": {},
     "output_type": "execute_result"
    }
   ],
   "source": [
    "data[data['length'] == 1]['verified_reviews'].iloc[0]"
   ]
  },
  {
   "cell_type": "code",
   "execution_count": 18,
   "metadata": {},
   "outputs": [
    {
     "data": {
      "text/plain": [
       "'Good sound works well'"
      ]
     },
     "execution_count": 18,
     "metadata": {},
     "output_type": "execute_result"
    }
   ],
   "source": [
    "data[data['length'] == 21]['verified_reviews'].iloc[0]"
   ]
  },
  {
   "cell_type": "code",
   "execution_count": 19,
   "metadata": {},
   "outputs": [
    {
     "name": "stderr",
     "output_type": "stream",
     "text": [
      "C:\\Users\\POOJA\\Anaconda3\\lib\\site-packages\\spacy\\util.py:271: UserWarning:\n",
      "\n",
      "[W031] Model 'en_core_web_sm' (2.2.0) requires spaCy v2.2 and is incompatible with the current spaCy version (2.3.0). This may lead to unexpected results or runtime errors. To resolve this, download a newer compatible model or retrain your custom model with the current spaCy version. For more details and available updates, run: python -m spacy validate\n",
      "\n",
      "C:\\Users\\POOJA\\Anaconda3\\lib\\site-packages\\spacy\\displacy\\__init__.py:189: UserWarning:\n",
      "\n",
      "[W006] No entities to visualize found in Doc object. If this is surprising to you, make sure the Doc was processed using a model that supports named entity recognition, and check the `doc.ents` property manually if necessary.\n",
      "\n"
     ]
    },
    {
     "data": {
      "text/html": [
       "<span class=\"tex2jax_ignore\"><div class=\"entities\" style=\"line-height: 2.5; direction: ltr\">&quot;I love it, wife hates it.&quot;</div></span>"
      ],
      "text/plain": [
       "<IPython.core.display.HTML object>"
      ]
     },
     "metadata": {},
     "output_type": "display_data"
    },
    {
     "data": {
      "text/html": [
       "<span class=\"tex2jax_ignore\"><div class=\"entities\" style=\"line-height: 2.5; direction: ltr\">Really happy with this purchase.  Great speaker and easy to set up.</div></span>"
      ],
      "text/plain": [
       "<IPython.core.display.HTML object>"
      ]
     },
     "metadata": {},
     "output_type": "display_data"
    },
    {
     "data": {
      "text/html": [
       "<span class=\"tex2jax_ignore\"><div class=\"entities\" style=\"line-height: 2.5; direction: ltr\">We have only been using \n",
       "<mark class=\"entity\" style=\"background: #7aecec; padding: 0.45em 0.6em; margin: 0 0.25em; line-height: 1; border-radius: 0.35em;\">\n",
       "    Alexa\n",
       "    <span style=\"font-size: 0.8em; font-weight: bold; line-height: 1; border-radius: 0.35em; text-transform: uppercase; vertical-align: middle; margin-left: 0.5rem\">ORG</span>\n",
       "</mark>\n",
       " for \n",
       "<mark class=\"entity\" style=\"background: #bfe1d9; padding: 0.45em 0.6em; margin: 0 0.25em; line-height: 1; border-radius: 0.35em;\">\n",
       "    a couple of days\n",
       "    <span style=\"font-size: 0.8em; font-weight: bold; line-height: 1; border-radius: 0.35em; text-transform: uppercase; vertical-align: middle; margin-left: 0.5rem\">DATE</span>\n",
       "</mark>\n",
       " and are having a lot of fun with our new toy. It like having a new household member! We are trying to learn all the different featues and benefits that come with it.</div></span>"
      ],
      "text/plain": [
       "<IPython.core.display.HTML object>"
      ]
     },
     "metadata": {},
     "output_type": "display_data"
    },
    {
     "data": {
      "text/html": [
       "<span class=\"tex2jax_ignore\"><div class=\"entities\" style=\"line-height: 2.5; direction: ltr\">We love the size of the \n",
       "<mark class=\"entity\" style=\"background: #e4e7d2; padding: 0.45em 0.6em; margin: 0 0.25em; line-height: 1; border-radius: 0.35em;\">\n",
       "    2nd\n",
       "    <span style=\"font-size: 0.8em; font-weight: bold; line-height: 1; border-radius: 0.35em; text-transform: uppercase; vertical-align: middle; margin-left: 0.5rem\">ORDINAL</span>\n",
       "</mark>\n",
       " generation echo. Still needs a little improvement on sound</div></span>"
      ],
      "text/plain": [
       "<IPython.core.display.HTML object>"
      ]
     },
     "metadata": {},
     "output_type": "display_data"
    },
    {
     "data": {
      "text/html": [
       "<span class=\"tex2jax_ignore\"><div class=\"entities\" style=\"line-height: 2.5; direction: ltr\">&quot;I liked the original Echo. This is the same but shorter and with greater fabric/color choices. I miss the volume ring on top, now it's just the plus/minus buttons. Not a big deal but the ring w as comforting. :) Other than that, well I do like the use of a standard \n",
       "<mark class=\"entity\" style=\"background: #7aecec; padding: 0.45em 0.6em; margin: 0 0.25em; line-height: 1; border-radius: 0.35em;\">\n",
       "    USB\n",
       "    <span style=\"font-size: 0.8em; font-weight: bold; line-height: 1; border-radius: 0.35em; text-transform: uppercase; vertical-align: middle; margin-left: 0.5rem\">ORG</span>\n",
       "</mark>\n",
       " charger /port instead of the previous round pin. Other than that, I guess it sounds the same, seems to work the same, still answers to \n",
       "<mark class=\"entity\" style=\"background: #7aecec; padding: 0.45em 0.6em; margin: 0 0.25em; line-height: 1; border-radius: 0.35em;\">\n",
       "    Alexa/Echo/Computer\n",
       "    <span style=\"font-size: 0.8em; font-weight: bold; line-height: 1; border-radius: 0.35em; text-transform: uppercase; vertical-align: middle; margin-left: 0.5rem\">ORG</span>\n",
       "</mark>\n",
       ". So what's not to like? :)&quot;</div></span>"
      ],
      "text/plain": [
       "<IPython.core.display.HTML object>"
      ]
     },
     "metadata": {},
     "output_type": "display_data"
    },
    {
     "data": {
      "text/html": [
       "<span class=\"tex2jax_ignore\"><div class=\"entities\" style=\"line-height: 2.5; direction: ltr\">Love the Echo and how good the music sounds playing off it. Alexa understands most commands but it is difficult at times for her to find specific playlists or songs on \n",
       "<mark class=\"entity\" style=\"background: #aa9cfc; padding: 0.45em 0.6em; margin: 0 0.25em; line-height: 1; border-radius: 0.35em;\">\n",
       "    Spotify\n",
       "    <span style=\"font-size: 0.8em; font-weight: bold; line-height: 1; border-radius: 0.35em; text-transform: uppercase; vertical-align: middle; margin-left: 0.5rem\">PERSON</span>\n",
       "</mark>\n",
       ". She is good with \n",
       "<mark class=\"entity\" style=\"background: #7aecec; padding: 0.45em 0.6em; margin: 0 0.25em; line-height: 1; border-radius: 0.35em;\">\n",
       "    Amazon Music\n",
       "    <span style=\"font-size: 0.8em; font-weight: bold; line-height: 1; border-radius: 0.35em; text-transform: uppercase; vertical-align: middle; margin-left: 0.5rem\">ORG</span>\n",
       "</mark>\n",
       " but is lacking in other major programs.</div></span>"
      ],
      "text/plain": [
       "<IPython.core.display.HTML object>"
      ]
     },
     "metadata": {},
     "output_type": "display_data"
    },
    {
     "data": {
      "text/html": [
       "<span class=\"tex2jax_ignore\"><div class=\"entities\" style=\"line-height: 2.5; direction: ltr\">&quot;We love Alexa! We use her to play music, play radio through \n",
       "<mark class=\"entity\" style=\"background: #7aecec; padding: 0.45em 0.6em; margin: 0 0.25em; line-height: 1; border-radius: 0.35em;\">\n",
       "    iTunes\n",
       "    <span style=\"font-size: 0.8em; font-weight: bold; line-height: 1; border-radius: 0.35em; text-transform: uppercase; vertical-align: middle; margin-left: 0.5rem\">ORG</span>\n",
       "</mark>\n",
       ", play podcasts through \n",
       "<mark class=\"entity\" style=\"background: #feca74; padding: 0.45em 0.6em; margin: 0 0.25em; line-height: 1; border-radius: 0.35em;\">\n",
       "    Anypod\n",
       "    <span style=\"font-size: 0.8em; font-weight: bold; line-height: 1; border-radius: 0.35em; text-transform: uppercase; vertical-align: middle; margin-left: 0.5rem\">GPE</span>\n",
       "</mark>\n",
       ", and set reminders. We listen to our flash briefing of news and weather \n",
       "<mark class=\"entity\" style=\"background: #bfe1d9; padding: 0.45em 0.6em; margin: 0 0.25em; line-height: 1; border-radius: 0.35em;\">\n",
       "    every morning\n",
       "    <span style=\"font-size: 0.8em; font-weight: bold; line-height: 1; border-radius: 0.35em; text-transform: uppercase; vertical-align: middle; margin-left: 0.5rem\">TIME</span>\n",
       "</mark>\n",
       ". We rely on our custom lists. We like being able to voice control the volume. We're sure we'll continue to find new uses.Sometimes it's a bit frustrating when \n",
       "<mark class=\"entity\" style=\"background: #7aecec; padding: 0.45em 0.6em; margin: 0 0.25em; line-height: 1; border-radius: 0.35em;\">\n",
       "    Alexa\n",
       "    <span style=\"font-size: 0.8em; font-weight: bold; line-height: 1; border-radius: 0.35em; text-transform: uppercase; vertical-align: middle; margin-left: 0.5rem\">ORG</span>\n",
       "</mark>\n",
       " doesn't understand what we're saying.&quot;</div></span>"
      ],
      "text/plain": [
       "<IPython.core.display.HTML object>"
      ]
     },
     "metadata": {},
     "output_type": "display_data"
    },
    {
     "data": {
      "text/html": [
       "<span class=\"tex2jax_ignore\"><div class=\"entities\" style=\"line-height: 2.5; direction: ltr\">&quot;Have only had it set up for \n",
       "<mark class=\"entity\" style=\"background: #bfe1d9; padding: 0.45em 0.6em; margin: 0 0.25em; line-height: 1; border-radius: 0.35em;\">\n",
       "    a few days\n",
       "    <span style=\"font-size: 0.8em; font-weight: bold; line-height: 1; border-radius: 0.35em; text-transform: uppercase; vertical-align: middle; margin-left: 0.5rem\">DATE</span>\n",
       "</mark>\n",
       ". Still adding smart home devices to it. The speaker is great for playing music. I like the size, we have it stationed on the kitchen counter and it’s not intrusive to look at.&quot;</div></span>"
      ],
      "text/plain": [
       "<IPython.core.display.HTML object>"
      ]
     },
     "metadata": {},
     "output_type": "display_data"
    },
    {
     "data": {
      "text/html": [
       "<span class=\"tex2jax_ignore\"><div class=\"entities\" style=\"line-height: 2.5; direction: ltr\">I love it. It plays my sleep sounds immediately when I ask</div></span>"
      ],
      "text/plain": [
       "<IPython.core.display.HTML object>"
      ]
     },
     "metadata": {},
     "output_type": "display_data"
    },
    {
     "data": {
      "text/html": [
       "<span class=\"tex2jax_ignore\"><div class=\"entities\" style=\"line-height: 2.5; direction: ltr\">&quot;I got a \n",
       "<mark class=\"entity\" style=\"background: #e4e7d2; padding: 0.45em 0.6em; margin: 0 0.25em; line-height: 1; border-radius: 0.35em;\">\n",
       "    second\n",
       "    <span style=\"font-size: 0.8em; font-weight: bold; line-height: 1; border-radius: 0.35em; text-transform: uppercase; vertical-align: middle; margin-left: 0.5rem\">ORDINAL</span>\n",
       "</mark>\n",
       " unit for the bedroom, I was expecting the sounds to be improved but I didnt really see a difference at all.  Overall, not a big improvement over \n",
       "<mark class=\"entity\" style=\"background: #bfe1d9; padding: 0.45em 0.6em; margin: 0 0.25em; line-height: 1; border-radius: 0.35em;\">\n",
       "    the 1st generation\n",
       "    <span style=\"font-size: 0.8em; font-weight: bold; line-height: 1; border-radius: 0.35em; text-transform: uppercase; vertical-align: middle; margin-left: 0.5rem\">DATE</span>\n",
       "</mark>\n",
       ".&quot;</div></span>"
      ],
      "text/plain": [
       "<IPython.core.display.HTML object>"
      ]
     },
     "metadata": {},
     "output_type": "display_data"
    },
    {
     "data": {
      "text/html": [
       "<span class=\"tex2jax_ignore\"><div class=\"entities\" style=\"line-height: 2.5; direction: ltr\">Amazing product</div></span>"
      ],
      "text/plain": [
       "<IPython.core.display.HTML object>"
      ]
     },
     "metadata": {},
     "output_type": "display_data"
    },
    {
     "data": {
      "text/html": [
       "<span class=\"tex2jax_ignore\"><div class=\"entities\" style=\"line-height: 2.5; direction: ltr\">&quot;I love my Echo. It's easy to operate, loads of fun.It is everything as advertised. I use it mainly to play my favorite tunes and test \n",
       "<mark class=\"entity\" style=\"background: #7aecec; padding: 0.45em 0.6em; margin: 0 0.25em; line-height: 1; border-radius: 0.35em;\">\n",
       "    Alexa\n",
       "    <span style=\"font-size: 0.8em; font-weight: bold; line-height: 1; border-radius: 0.35em; text-transform: uppercase; vertical-align: middle; margin-left: 0.5rem\">ORG</span>\n",
       "</mark>\n",
       "'s knowledge.&quot;</div></span>"
      ],
      "text/plain": [
       "<IPython.core.display.HTML object>"
      ]
     },
     "metadata": {},
     "output_type": "display_data"
    },
    {
     "data": {
      "text/html": [
       "<span class=\"tex2jax_ignore\"><div class=\"entities\" style=\"line-height: 2.5; direction: ltr\">Sounds great!! Love them!</div></span>"
      ],
      "text/plain": [
       "<IPython.core.display.HTML object>"
      ]
     },
     "metadata": {},
     "output_type": "display_data"
    },
    {
     "data": {
      "text/html": [
       "<span class=\"tex2jax_ignore\"><div class=\"entities\" style=\"line-height: 2.5; direction: ltr\">&quot;Fun item to play with and get used to using.  Sometimes has hard time answering the questions you ask, but I think it will be better.&quot;</div></span>"
      ],
      "text/plain": [
       "<IPython.core.display.HTML object>"
      ]
     },
     "metadata": {},
     "output_type": "display_data"
    },
    {
     "data": {
      "text/html": [
       "<span class=\"tex2jax_ignore\"><div class=\"entities\" style=\"line-height: 2.5; direction: ltr\">Just like the other one</div></span>"
      ],
      "text/plain": [
       "<IPython.core.display.HTML object>"
      ]
     },
     "metadata": {},
     "output_type": "display_data"
    },
    {
     "data": {
      "text/html": [
       "<span class=\"tex2jax_ignore\"><div class=\"entities\" style=\"line-height: 2.5; direction: ltr\">Still learning all the capabilities...but so far pretty pretty pretty good</div></span>"
      ],
      "text/plain": [
       "<IPython.core.display.HTML object>"
      ]
     },
     "metadata": {},
     "output_type": "display_data"
    },
    {
     "data": {
      "text/html": [
       "<span class=\"tex2jax_ignore\"><div class=\"entities\" style=\"line-height: 2.5; direction: ltr\">I like it</div></span>"
      ],
      "text/plain": [
       "<IPython.core.display.HTML object>"
      ]
     },
     "metadata": {},
     "output_type": "display_data"
    },
    {
     "data": {
      "text/html": [
       "<span class=\"tex2jax_ignore\"><div class=\"entities\" style=\"line-height: 2.5; direction: ltr\">&quot;She works well. Needs a learning command  for unique, owners and users like. Alexa “learn” \n",
       "<mark class=\"entity\" style=\"background: #f0d0ff; padding: 0.45em 0.6em; margin: 0 0.25em; line-height: 1; border-radius: 0.35em;\">\n",
       "    Tasha’s\n",
       "    <span style=\"font-size: 0.8em; font-weight: bold; line-height: 1; border-radius: 0.35em; text-transform: uppercase; vertical-align: middle; margin-left: 0.5rem\">WORK_OF_ART</span>\n",
       "</mark>\n",
       " birthday.  Or \n",
       "<mark class=\"entity\" style=\"background: #f0d0ff; padding: 0.45em 0.6em; margin: 0 0.25em; line-height: 1; border-radius: 0.35em;\">\n",
       "    Alexa\n",
       "    <span style=\"font-size: 0.8em; font-weight: bold; line-height: 1; border-radius: 0.35em; text-transform: uppercase; vertical-align: middle; margin-left: 0.5rem\">WORK_OF_ART</span>\n",
       "</mark>\n",
       " “learn” my definition of \n",
       "<mark class=\"entity\" style=\"background: #7aecec; padding: 0.45em 0.6em; margin: 0 0.25em; line-height: 1; border-radius: 0.35em;\">\n",
       "    Fine\n",
       "    <span style=\"font-size: 0.8em; font-weight: bold; line-height: 1; border-radius: 0.35em; text-transform: uppercase; vertical-align: middle; margin-left: 0.5rem\">ORG</span>\n",
       "</mark>\n",
       ". Etc. other than that she is great&quot;</div></span>"
      ],
      "text/plain": [
       "<IPython.core.display.HTML object>"
      ]
     },
     "metadata": {},
     "output_type": "display_data"
    },
    {
     "data": {
      "text/html": [
       "<span class=\"tex2jax_ignore\"><div class=\"entities\" style=\"line-height: 2.5; direction: ltr\">The speakers sound pretty good for being so small and setup is pretty easy.  I bought \n",
       "<mark class=\"entity\" style=\"background: #e4e7d2; padding: 0.45em 0.6em; margin: 0 0.25em; line-height: 1; border-radius: 0.35em;\">\n",
       "    two\n",
       "    <span style=\"font-size: 0.8em; font-weight: bold; line-height: 1; border-radius: 0.35em; text-transform: uppercase; vertical-align: middle; margin-left: 0.5rem\">CARDINAL</span>\n",
       "</mark>\n",
       " and the reason I only rate it a \n",
       "<mark class=\"entity\" style=\"background: #e4e7d2; padding: 0.45em 0.6em; margin: 0 0.25em; line-height: 1; border-radius: 0.35em;\">\n",
       "    3\n",
       "    <span style=\"font-size: 0.8em; font-weight: bold; line-height: 1; border-radius: 0.35em; text-transform: uppercase; vertical-align: middle; margin-left: 0.5rem\">CARDINAL</span>\n",
       "</mark>\n",
       " is I have followed the instructions for synching music to both units.  I know I've done it correctly but they won't sync.  That was my primary motivation for purchasing multiple units.</div></span>"
      ],
      "text/plain": [
       "<IPython.core.display.HTML object>"
      ]
     },
     "metadata": {},
     "output_type": "display_data"
    },
    {
     "data": {
      "text/html": [
       "<span class=\"tex2jax_ignore\"><div class=\"entities\" style=\"line-height: 2.5; direction: ltr\">This device is awesome!</div></span>"
      ],
      "text/plain": [
       "<IPython.core.display.HTML object>"
      ]
     },
     "metadata": {},
     "output_type": "display_data"
    },
    {
     "data": {
      "text/html": [
       "<span class=\"tex2jax_ignore\"><div class=\"entities\" style=\"line-height: 2.5; direction: ltr\">I bought this to compare the speaker quality to our \n",
       "<mark class=\"entity\" style=\"background: #e4e7d2; padding: 0.45em 0.6em; margin: 0 0.25em; line-height: 1; border-radius: 0.35em;\">\n",
       "    first\n",
       "    <span style=\"font-size: 0.8em; font-weight: bold; line-height: 1; border-radius: 0.35em; text-transform: uppercase; vertical-align: middle; margin-left: 0.5rem\">ORDINAL</span>\n",
       "</mark>\n",
       " generation speaker and i like the sound better.  I will ship this to my daughter though because I like the fact that my \n",
       "<mark class=\"entity\" style=\"background: #e4e7d2; padding: 0.45em 0.6em; margin: 0 0.25em; line-height: 1; border-radius: 0.35em;\">\n",
       "    first\n",
       "    <span style=\"font-size: 0.8em; font-weight: bold; line-height: 1; border-radius: 0.35em; text-transform: uppercase; vertical-align: middle; margin-left: 0.5rem\">ORDINAL</span>\n",
       "</mark>\n",
       " generation has a chargeable base that we bought which keeps it more mobile and she needs a better sound than what she has now.</div></span>"
      ],
      "text/plain": [
       "<IPython.core.display.HTML object>"
      ]
     },
     "metadata": {},
     "output_type": "display_data"
    },
    {
     "data": {
      "text/html": [
       "<span class=\"tex2jax_ignore\"><div class=\"entities\" style=\"line-height: 2.5; direction: ltr\">&quot;Love my Echo. Still learning all the things it will do. Wasn’t able to follow instructions included in the package, but found a great one on \n",
       "<mark class=\"entity\" style=\"background: #7aecec; padding: 0.45em 0.6em; margin: 0 0.25em; line-height: 1; border-radius: 0.35em;\">\n",
       "    U-Tube\n",
       "    <span style=\"font-size: 0.8em; font-weight: bold; line-height: 1; border-radius: 0.35em; text-transform: uppercase; vertical-align: middle; margin-left: 0.5rem\">ORG</span>\n",
       "</mark>\n",
       ".&quot;</div></span>"
      ],
      "text/plain": [
       "<IPython.core.display.HTML object>"
      ]
     },
     "metadata": {},
     "output_type": "display_data"
    },
    {
     "data": {
      "text/html": [
       "<span class=\"tex2jax_ignore\"><div class=\"entities\" style=\"line-height: 2.5; direction: ltr\">Speaker is better than \n",
       "<mark class=\"entity\" style=\"background: #e4e7d2; padding: 0.45em 0.6em; margin: 0 0.25em; line-height: 1; border-radius: 0.35em;\">\n",
       "    1st\n",
       "    <span style=\"font-size: 0.8em; font-weight: bold; line-height: 1; border-radius: 0.35em; text-transform: uppercase; vertical-align: middle; margin-left: 0.5rem\">ORDINAL</span>\n",
       "</mark>\n",
       " generation Echo</div></span>"
      ],
      "text/plain": [
       "<IPython.core.display.HTML object>"
      ]
     },
     "metadata": {},
     "output_type": "display_data"
    },
    {
     "data": {
      "text/html": [
       "<span class=\"tex2jax_ignore\"><div class=\"entities\" style=\"line-height: 2.5; direction: ltr\">&quot;This thing is way cool!  You should get one.  If you want to be cool, that is.&quot;</div></span>"
      ],
      "text/plain": [
       "<IPython.core.display.HTML object>"
      ]
     },
     "metadata": {},
     "output_type": "display_data"
    },
    {
     "data": {
      "text/html": [
       "<span class=\"tex2jax_ignore\"><div class=\"entities\" style=\"line-height: 2.5; direction: ltr\">&quot;This is my \n",
       "<mark class=\"entity\" style=\"background: #e4e7d2; padding: 0.45em 0.6em; margin: 0 0.25em; line-height: 1; border-radius: 0.35em;\">\n",
       "    first\n",
       "    <span style=\"font-size: 0.8em; font-weight: bold; line-height: 1; border-radius: 0.35em; text-transform: uppercase; vertical-align: middle; margin-left: 0.5rem\">ORDINAL</span>\n",
       "</mark>\n",
       " digital assistant so I'm giving this a good review. Speaker is really good for the cheap price on \n",
       "<mark class=\"entity\" style=\"background: #bfe1d9; padding: 0.45em 0.6em; margin: 0 0.25em; line-height: 1; border-radius: 0.35em;\">\n",
       "    Prime day\n",
       "    <span style=\"font-size: 0.8em; font-weight: bold; line-height: 1; border-radius: 0.35em; text-transform: uppercase; vertical-align: middle; margin-left: 0.5rem\">DATE</span>\n",
       "</mark>\n",
       ". Fun to play with and can be used as an alarm clock (That's what I was going to get in the \n",
       "<mark class=\"entity\" style=\"background: #e4e7d2; padding: 0.45em 0.6em; margin: 0 0.25em; line-height: 1; border-radius: 0.35em;\">\n",
       "    first\n",
       "    <span style=\"font-size: 0.8em; font-weight: bold; line-height: 1; border-radius: 0.35em; text-transform: uppercase; vertical-align: middle; margin-left: 0.5rem\">ORDINAL</span>\n",
       "</mark>\n",
       " place, but I ended up with Echo). If you haven't had a go with one then definitely try it!What I like best is the number of other devices that it can connect with. My purchase came with a Smart Plug for $\n",
       "<mark class=\"entity\" style=\"background: #e4e7d2; padding: 0.45em 0.6em; margin: 0 0.25em; line-height: 1; border-radius: 0.35em;\">\n",
       "    10\n",
       "    <span style=\"font-size: 0.8em; font-weight: bold; line-height: 1; border-radius: 0.35em; text-transform: uppercase; vertical-align: middle; margin-left: 0.5rem\">MONEY</span>\n",
       "</mark>\n",
       " which I connect my lamp to. \n",
       "<mark class=\"entity\" style=\"background: #7aecec; padding: 0.45em 0.6em; margin: 0 0.25em; line-height: 1; border-radius: 0.35em;\">\n",
       "    Alexa\n",
       "    <span style=\"font-size: 0.8em; font-weight: bold; line-height: 1; border-radius: 0.35em; text-transform: uppercase; vertical-align: middle; margin-left: 0.5rem\">ORG</span>\n",
       "</mark>\n",
       ", turn of the lights!&quot;</div></span>"
      ],
      "text/plain": [
       "<IPython.core.display.HTML object>"
      ]
     },
     "metadata": {},
     "output_type": "display_data"
    },
    {
     "data": {
      "text/html": [
       "<span class=\"tex2jax_ignore\"><div class=\"entities\" style=\"line-height: 2.5; direction: ltr\">My husband likes being able to use it to listen to music.  I wish we knew all it's capabilities</div></span>"
      ],
      "text/plain": [
       "<IPython.core.display.HTML object>"
      ]
     },
     "metadata": {},
     "output_type": "display_data"
    },
    {
     "data": {
      "text/html": [
       "<span class=\"tex2jax_ignore\"><div class=\"entities\" style=\"line-height: 2.5; direction: ltr\">&quot;My Android would not allow \n",
       "<mark class=\"entity\" style=\"background: #7aecec; padding: 0.45em 0.6em; margin: 0 0.25em; line-height: 1; border-radius: 0.35em;\">\n",
       "    Alexa\n",
       "    <span style=\"font-size: 0.8em; font-weight: bold; line-height: 1; border-radius: 0.35em; text-transform: uppercase; vertical-align: middle; margin-left: 0.5rem\">ORG</span>\n",
       "</mark>\n",
       " to connect. Fortunately, my sister was here with her \n",
       "<mark class=\"entity\" style=\"background: #7aecec; padding: 0.45em 0.6em; margin: 0 0.25em; line-height: 1; border-radius: 0.35em;\">\n",
       "    Apple\n",
       "    <span style=\"font-size: 0.8em; font-weight: bold; line-height: 1; border-radius: 0.35em; text-transform: uppercase; vertical-align: middle; margin-left: 0.5rem\">ORG</span>\n",
       "</mark>\n",
       " cell. After an hour+ tech support fixed the glitches. We are up and running.&quot;</div></span>"
      ],
      "text/plain": [
       "<IPython.core.display.HTML object>"
      ]
     },
     "metadata": {},
     "output_type": "display_data"
    },
    {
     "data": {
      "text/html": [
       "<span class=\"tex2jax_ignore\"><div class=\"entities\" style=\"line-height: 2.5; direction: ltr\">So far so good</div></span>"
      ],
      "text/plain": [
       "<IPython.core.display.HTML object>"
      ]
     },
     "metadata": {},
     "output_type": "display_data"
    },
    {
     "data": {
      "text/html": [
       "<span class=\"tex2jax_ignore\"><div class=\"entities\" style=\"line-height: 2.5; direction: ltr\">Tried to play certain broadway shows like \n",
       "<mark class=\"entity\" style=\"background: #ff9561; padding: 0.45em 0.6em; margin: 0 0.25em; line-height: 1; border-radius: 0.35em;\">\n",
       "    Camelot\n",
       "    <span style=\"font-size: 0.8em; font-weight: bold; line-height: 1; border-radius: 0.35em; text-transform: uppercase; vertical-align: middle; margin-left: 0.5rem\">LOC</span>\n",
       "</mark>\n",
       " and it gives ne the group \n",
       "<mark class=\"entity\" style=\"background: #ff9561; padding: 0.45em 0.6em; margin: 0 0.25em; line-height: 1; border-radius: 0.35em;\">\n",
       "    Camelot\n",
       "    <span style=\"font-size: 0.8em; font-weight: bold; line-height: 1; border-radius: 0.35em; text-transform: uppercase; vertical-align: middle; margin-left: 0.5rem\">LOC</span>\n",
       "</mark>\n",
       ".</div></span>"
      ],
      "text/plain": [
       "<IPython.core.display.HTML object>"
      ]
     },
     "metadata": {},
     "output_type": "display_data"
    },
    {
     "data": {
      "text/html": [
       "<span class=\"tex2jax_ignore\"><div class=\"entities\" style=\"line-height: 2.5; direction: ltr\">Great</div></span>"
      ],
      "text/plain": [
       "<IPython.core.display.HTML object>"
      ]
     },
     "metadata": {},
     "output_type": "display_data"
    },
    {
     "data": {
      "text/html": [
       "<span class=\"tex2jax_ignore\"><div class=\"entities\" style=\"line-height: 2.5; direction: ltr\">Very satisfied with the Echo. Alexa now controls the lights in my family room and my wife can listen to \n",
       "<mark class=\"entity\" style=\"background: #aa9cfc; padding: 0.45em 0.6em; margin: 0 0.25em; line-height: 1; border-radius: 0.35em;\">\n",
       "    Jimmy Buffet\n",
       "    <span style=\"font-size: 0.8em; font-weight: bold; line-height: 1; border-radius: 0.35em; text-transform: uppercase; vertical-align: middle; margin-left: 0.5rem\">PERSON</span>\n",
       "</mark>\n",
       " by just asking \n",
       "<mark class=\"entity\" style=\"background: #7aecec; padding: 0.45em 0.6em; margin: 0 0.25em; line-height: 1; border-radius: 0.35em;\">\n",
       "    Alexa\n",
       "    <span style=\"font-size: 0.8em; font-weight: bold; line-height: 1; border-radius: 0.35em; text-transform: uppercase; vertical-align: middle; margin-left: 0.5rem\">ORG</span>\n",
       "</mark>\n",
       ".</div></span>"
      ],
      "text/plain": [
       "<IPython.core.display.HTML object>"
      ]
     },
     "metadata": {},
     "output_type": "display_data"
    },
    {
     "data": {
      "text/html": [
       "<span class=\"tex2jax_ignore\"><div class=\"entities\" style=\"line-height: 2.5; direction: ltr\">&quot;It's like \n",
       "<mark class=\"entity\" style=\"background: #aa9cfc; padding: 0.45em 0.6em; margin: 0 0.25em; line-height: 1; border-radius: 0.35em;\">\n",
       "    Siri\n",
       "    <span style=\"font-size: 0.8em; font-weight: bold; line-height: 1; border-radius: 0.35em; text-transform: uppercase; vertical-align: middle; margin-left: 0.5rem\">PERSON</span>\n",
       "</mark>\n",
       ", in fact, \n",
       "<mark class=\"entity\" style=\"background: #bfeeb7; padding: 0.45em 0.6em; margin: 0 0.25em; line-height: 1; border-radius: 0.35em;\">\n",
       "    Siri\n",
       "    <span style=\"font-size: 0.8em; font-weight: bold; line-height: 1; border-radius: 0.35em; text-transform: uppercase; vertical-align: middle; margin-left: 0.5rem\">PRODUCT</span>\n",
       "</mark>\n",
       " answers more accurately then \n",
       "<mark class=\"entity\" style=\"background: #7aecec; padding: 0.45em 0.6em; margin: 0 0.25em; line-height: 1; border-radius: 0.35em;\">\n",
       "    Alexa\n",
       "    <span style=\"font-size: 0.8em; font-weight: bold; line-height: 1; border-radius: 0.35em; text-transform: uppercase; vertical-align: middle; margin-left: 0.5rem\">ORG</span>\n",
       "</mark>\n",
       ".  I don't see a real need for it in my household, though it was a good bargain on prime day deals.&quot;</div></span>"
      ],
      "text/plain": [
       "<IPython.core.display.HTML object>"
      ]
     },
     "metadata": {},
     "output_type": "display_data"
    },
    {
     "data": {
      "text/html": [
       "<span class=\"tex2jax_ignore\"><div class=\"entities\" style=\"line-height: 2.5; direction: ltr\">Love my Echo. Still learning how every thing works but having tons of fun.</div></span>"
      ],
      "text/plain": [
       "<IPython.core.display.HTML object>"
      ]
     },
     "metadata": {},
     "output_type": "display_data"
    },
    {
     "data": {
      "text/html": [
       "<span class=\"tex2jax_ignore\"><div class=\"entities\" style=\"line-height: 2.5; direction: ltr\">I love you so much</div></span>"
      ],
      "text/plain": [
       "<IPython.core.display.HTML object>"
      ]
     },
     "metadata": {},
     "output_type": "display_data"
    },
    {
     "data": {
      "text/html": [
       "<span class=\"tex2jax_ignore\"><div class=\"entities\" style=\"line-height: 2.5; direction: ltr\">No different than \n",
       "<mark class=\"entity\" style=\"background: #7aecec; padding: 0.45em 0.6em; margin: 0 0.25em; line-height: 1; border-radius: 0.35em;\">\n",
       "    Apple\n",
       "    <span style=\"font-size: 0.8em; font-weight: bold; line-height: 1; border-radius: 0.35em; text-transform: uppercase; vertical-align: middle; margin-left: 0.5rem\">ORG</span>\n",
       "</mark>\n",
       ". To play a specific list of music you must have an Amazon of Spotify “plus/prime/etc” account.  So you must pay to play “your” music.  \n",
       "<mark class=\"entity\" style=\"background: #e4e7d2; padding: 0.45em 0.6em; margin: 0 0.25em; line-height: 1; border-radius: 0.35em;\">\n",
       "    3\n",
       "    <span style=\"font-size: 0.8em; font-weight: bold; line-height: 1; border-radius: 0.35em; text-transform: uppercase; vertical-align: middle; margin-left: 0.5rem\">CARDINAL</span>\n",
       "</mark>\n",
       " stars for that reason.  Everything else is 👍🏻 .</div></span>"
      ],
      "text/plain": [
       "<IPython.core.display.HTML object>"
      ]
     },
     "metadata": {},
     "output_type": "display_data"
    }
   ],
   "source": [
    "import spacy\n",
    "import en_core_web_sm\n",
    "nlp = en_core_web_sm.load()\n",
    "\n",
    "\n",
    "def explain_text_entities(text):\n",
    "    doc = nlp(text)\n",
    "    for ent in doc.ents:\n",
    "        print(f'Entity: {ent}, Label: {ent.label_}, {spacy.explain(ent.label_)}')\n",
    "        \n",
    "for i in range(15, 50):\n",
    "    one_sentence = data['verified_reviews'][i]\n",
    "    doc = nlp(one_sentence)\n",
    "    spacy.displacy.render(doc, style='ent',jupyter=True)"
   ]
  },
  {
   "cell_type": "code",
   "execution_count": 20,
   "metadata": {},
   "outputs": [],
   "source": [
    "import re\n",
    "import nltk\n",
    "from nltk.corpus import stopwords\n",
    "from nltk.stem import WordNetLemmatizer\n",
    "corpus=[]\n",
    "for i in range(0,3150):\n",
    "    review = re.sub('[^a-zA-Z]', ' ', data['verified_reviews'][i] )\n",
    "    review=review.lower()\n",
    "    review=review.split()\n",
    "    lemmatizer=WordNetLemmatizer()\n",
    "    review=[lemmatizer.lemmatize(word) for word in review if not word in set(stopwords.words('english'))]\n",
    "    review=' '.join(review)\n",
    "    corpus.append(review)\n",
    "    "
   ]
  },
  {
   "cell_type": "code",
   "execution_count": 21,
   "metadata": {},
   "outputs": [
    {
     "data": {
      "text/plain": [
       "['love echo',\n",
       " 'loved',\n",
       " 'sometimes playing game answer question correctly alexa say got wrong answer like able turn light away home',\n",
       " 'lot fun thing yr old learns dinosaur control light play game like category nice sound playing music well',\n",
       " 'music',\n",
       " 'received echo gift needed another bluetooth something play music easily accessible found smart speaker wait see else',\n",
       " 'without cellphone cannot use many feature ipad see use great alarm u r almost deaf hear alarm bedroom living room reason enough keep fun ask random question hear response seem smartbon politics yet',\n",
       " 'think th one purchased working getting one every room house really like feature offer specifily playing music echo controlling light throughout house',\n",
       " 'look great',\n",
       " 'love listened song heard since childhood get news weather information great',\n",
       " 'sent year old dad talk constantly',\n",
       " 'love learning knew thing eveyday still figuring everything work far easy use understand make laugh time',\n",
       " 'purchased mother knee problem give something trying come getting around fast like enjoys little big thing alexa play song time cook',\n",
       " 'love love love',\n",
       " 'expected',\n",
       " 'love wife hate',\n",
       " 'really happy purchase great speaker easy set',\n",
       " 'using alexa couple day lot fun new toy like new household member trying learn different featues benefit come',\n",
       " 'love size nd generation echo still need little improvement sound',\n",
       " 'liked original echo shorter greater fabric color choice miss volume ring top plus minus button big deal ring w comforting well like use standard usb charger port instead previous round pin guess sound seems work still answer alexa echo computer like',\n",
       " 'love echo good music sound playing alexa understands command difficult time find specific playlist song spotify good amazon music lacking major program',\n",
       " 'love alexa use play music play radio itunes play podcasts anypod set reminder listen flash briefing news weather every morning rely custom list like able voice control volume sure continue find new us sometimes bit frustrating alexa understand saying',\n",
       " 'set day still adding smart home device speaker great playing music like size stationed kitchen counter intrusive look',\n",
       " 'love play sleep sound immediately ask',\n",
       " 'got second unit bedroom expecting sound improved didnt really see difference overall big improvement st generation',\n",
       " 'amazing product',\n",
       " 'love echo easy operate load fun everything advertised use mainly play favorite tune test alexa knowledge',\n",
       " 'sound great love',\n",
       " 'fun item play get used using sometimes hard time answering question ask think better',\n",
       " 'like one',\n",
       " 'still learning capability far pretty pretty pretty good',\n",
       " 'like',\n",
       " 'work well need learning command unique owner user like alexa learn tasha birthday alexa learn definition fine etc great',\n",
       " 'speaker sound pretty good small setup pretty easy bought two reason rate followed instruction synching music unit know done correctly sync primary motivation purchasing multiple unit',\n",
       " 'device awesome',\n",
       " 'bought compare speaker quality first generation speaker like sound better ship daughter though like fact first generation chargeable base bought keep mobile need better sound',\n",
       " 'love echo still learning thing able follow instruction included package found great one u tube',\n",
       " 'speaker better st generation echo',\n",
       " 'thing way cool get one want cool',\n",
       " 'first digital assistant giving good review speaker really good cheap price prime day fun play used alarm clock going get first place ended echo go one definitely try like best number device connect purchase came smart plug connect lamp alexa turn light',\n",
       " 'husband like able use listen music wish knew capability',\n",
       " 'android would allow alexa connect fortunately sister apple cell hour tech support fixed glitch running',\n",
       " 'far good',\n",
       " 'tried play certain broadway show like camelot give ne group camelot',\n",
       " 'great',\n",
       " 'satisfied echo alexa control light family room wife listen jimmy buffet asking alexa',\n",
       " 'like siri fact siri answer accurately alexa see real need household though good bargain prime day deal',\n",
       " 'love echo still learning every thing work ton fun',\n",
       " 'love much',\n",
       " 'different apple play specific list music must amazon spotify plus prime etc account must pay play music star reason everything else',\n",
       " 'excelente lo unico e que esta en espa ol',\n",
       " 'still learning use far echo great sound actually much better expecting',\n",
       " 'work expect also good sound quality considering price sale feature',\n",
       " 'sound echo nd generation phenomenal mention love alexa helpful',\n",
       " 'like google better',\n",
       " 'let play learn get',\n",
       " 'work advertised easy setup still learning',\n",
       " 'great sound easy set',\n",
       " 'love alexa bought others friend',\n",
       " 'love echo purchased company husband alexa great say name tell joke play favorite song',\n",
       " '',\n",
       " 'love able listen music easily still learning feature available',\n",
       " 'really know could use device used thing need overview',\n",
       " 'love wish built hub',\n",
       " 'use primarily play music work wonderfully still getting used many thing amazon sent several tip since got thanks help',\n",
       " 'easy set',\n",
       " 'fast response amazing clear concise answer sound quality fantastic still getting used alexia usde echo full extent',\n",
       " 'need na na nana',\n",
       " 'everything expected',\n",
       " 'love echo work like said would smart home cannot speak function everything else good',\n",
       " 'great sound small package easy set use fun',\n",
       " 'work sound great',\n",
       " 'sound amazing many collection music',\n",
       " 'setting',\n",
       " 'always listen',\n",
       " 'awesome',\n",
       " 'bought control fios television work well hoping time control fios discovered thing alexa play music ask great sound alexa play game play radio station play old time radio program like long ranger alexa many apps add ability day played madlibs great fun also alexa control household appliance purchased alexa compatible power strip control lighting fan tv component looking forward implementing controll also add alexa component chosen music play room component located',\n",
       " 'speaker excellent sound work perfectly',\n",
       " 'like',\n",
       " 'love everything',\n",
       " 'little nervous received new echo really tech savvy found bit intimidating first take long figure happy purchase thinking adding echo spot',\n",
       " 'like still learning use',\n",
       " 'great technology believe speaker volume quality wonderful wish bought another one',\n",
       " 'purchased echo dot husband father day us constantly hearing quality sound echo nd generation brainer best gift ever',\n",
       " 'work fine',\n",
       " '',\n",
       " 'clear music',\n",
       " 'fun use good sound quality',\n",
       " 'echo work well able sync amazon music device',\n",
       " 'work great think amazon charge another cent unlimited music prime buy echo',\n",
       " 'already echo dot echo even better fuller sound also setup let phone call made contact list great',\n",
       " 'speaker sound really good',\n",
       " 'good sound work well',\n",
       " 'love alexa savvy support helpful patient',\n",
       " 'love thinking getting one prime day discount offered could pas fun ask alexa play song group come playlist amazon prime music also connect iphone bluetooth play music pandora youtube video using alexa speaker fun asking alexa different type question information like weather news even time country downside limited data wifi plan alexa us burn playing music',\n",
       " 'like far lot try yet',\n",
       " 'love using strictly music great',\n",
       " 'love echo love size material speaker quality hooked one light easily work additional light thermostat next echo dot bedroom lot echo think traffic weather trivia etc',\n",
       " 'love',\n",
       " 'entire family love alexa echo part family',\n",
       " 'great fun getting know function product wow family fun homework help talking grandchild also echo huge bonus wait learn',\n",
       " 'love',\n",
       " 'awesome thing love alexa',\n",
       " 'worked exactly expected speaker great sound perfect classroom',\n",
       " 'love love new little gadget made life much easier like personal secretary living home hardly need cd anymore since alexa play everything need going get alexa dot soon room thanks',\n",
       " 'speaker surprising quality happy purchase',\n",
       " 'easy set work wonderful love',\n",
       " 'really impressed sound quality playing music device bass sound almost like coming bigger speaker prop amazon',\n",
       " 'still great product sound quality seem worse get wrong definitely get used within hour definitely feel like echo gen sound quality better besides great addition able play bluetooth wifi even better',\n",
       " 'outlet work disappointed',\n",
       " 'great device responsive helpful',\n",
       " 'sound terrible u want good music get bose',\n",
       " 'liked sound troubling paid extra money access million song sometimes work ex alexa play italian song understand play opera tosca response sorry',\n",
       " 'easy set use bad plugged would nice take outside operate battery recharged',\n",
       " 'still learning way use real hit grandkids ask play music dance yr cute',\n",
       " 'star generally like product great ask like playing music setting timer making call reason rate sometimes connection dy echo stop playing music show red ring seems connection issue overall great product',\n",
       " 'work great upgraded echo dot full size echo happier',\n",
       " 'alexa else say',\n",
       " 'upgraded lilttle echo dot happy sound',\n",
       " 'excellent product set ease well',\n",
       " 'first gen echo since first came worked well purchased nd gen prime day far happy seems improved speaker provides enhanced sound music',\n",
       " 'love echo smart speaker love volume clarity easy set wonderful gift age',\n",
       " 'wonderful product fast delivery',\n",
       " 'initially harder set called tech knowledgeable working great',\n",
       " 'easy set family love',\n",
       " 'great sound responsive voice command',\n",
       " 'live long without echo get enjoy music style asking alexa going greade wireless love echo love alexa',\n",
       " 'cool product speaker sound good spotify blasting',\n",
       " 'much fun alexa love able listen music across room busy something else',\n",
       " 'far seems nice item pick voice understands without problem day asked turn music next room heard fine used listen music check weather done thing well',\n",
       " 'love echo',\n",
       " 'love helpful use remembering thing sleep ask anything week still learning',\n",
       " 'better st gen every way except one really miss ring top volume control quicker easier grab top twist without look button find one press time also wish bass bit better great device happy',\n",
       " 'love alexa',\n",
       " 'far like',\n",
       " 'thoroughly enjoying ecoo love read audiobook office simply open audiobook kindle continue elsewhere wonderful listening music mood book great setting reminder much',\n",
       " 'still love',\n",
       " 'love',\n",
       " 'love sound quality unit clear sound',\n",
       " 'listening talk radio morning turning light etc system excellent job full house sound system streaming sirius',\n",
       " 'week still learning alexa learning process love music call time listen podcasts radio station started keeping shopping list grocery list love search paper pencil getting time temperature great wait weather report sound good fussy woofer tweeter base etc echo fine afternoon going try dropping son get home going surprise',\n",
       " 'much feature',\n",
       " 'great sound quality great feature great product multi room music cool',\n",
       " 'cool',\n",
       " 'everyone echo two three bought echo qvc',\n",
       " 'annoying everything show alexa able downloaded spend much time trying figure phrase machine may well look',\n",
       " 'alexa since beginning accidentally spilled water replaced nd generation decided without echo setup easy working within minute',\n",
       " 'like able tell alexia music want hear sometimes trouble finding song specific title',\n",
       " 'like look better original echo moved old echo basement family room nice sound',\n",
       " 'echo wonderful still learning use music request somewhat limited',\n",
       " 'know half thing asked recognize sprinkler wifi controller even though product detail say compatible program change wifi thermostat setting matched wifi router handy music player amazon music',\n",
       " 'love',\n",
       " 'awesome understands kid',\n",
       " 'pleasantly surprised sound quality many feature nice easily hear particular artist hear book simple command looking forward exploring option device',\n",
       " 'met exceeded expectation easy set really quick response',\n",
       " 'like fact get kind music prime want request alexa liked informative photo little pamphlet wish included connect tv etc command alexa really love music',\n",
       " 'found way access echo thorough prime account think part top line video music etc also think setup app define example music like well integrated echo tried ask playlist echo sure even though set play list setting also like fact word exact match playlist name never remember like ready nature echo respond query',\n",
       " 'great item added audible book make even better thank',\n",
       " 'prime day nd gen echo sale resist beginning smart home set happier say alexa done amazing job connecting smart device thanks control light smart plug tv etc trouble connecting echo wifi phone app work perfectly fine let add skill routine smart device timer much sound quality good enough since audiophile alexa hear voice even watching movie high volume design great modern definitely add nice touch home change cover like sale overall great addition home enables many possibility yet sure add alexa home',\n",
       " 'versatile fun',\n",
       " 'work great killer speaker wife son love',\n",
       " 'regret waiting long purchase item surprised pleased sound quality',\n",
       " 'stopped working week follow command really fun working',\n",
       " 'far love working getting thing set love grocery list app',\n",
       " 'performs pretty much expected disappointed provide terminology need play various kind music without subscribing amazon music service understand music choice may limited without knowing ask cannot access music provided free along echo purchase chart showing language need use',\n",
       " 'easy set',\n",
       " 'like product except speaker high quality expected',\n",
       " 'great investment alexa helped made laugh',\n",
       " 'yet another exho home love',\n",
       " 'love plan gender music big band jazz easy find local radio sound good stop voice command get phone call',\n",
       " 'good value',\n",
       " 'super easy set loving new echo',\n",
       " 'whats like speaker ask alexa',\n",
       " 'best father day gift dad joked mom alexa one listening repeated story going forward',\n",
       " 'great addition breakfast room kitchen tune information instantly available slowly learning feature',\n",
       " 'sound quality',\n",
       " 'sad joke worthless',\n",
       " 'entertainment',\n",
       " 'good quality',\n",
       " 'work great sound great miss beat wish battery better portability',\n",
       " 'loved till someone stoled afford replace yet going',\n",
       " 'alexa rock',\n",
       " 'got gift love never would bought one allows play music amozon prime music worth also give new brief tell joke',\n",
       " '',\n",
       " 'mom bought echo dot repeated ask take one great told two day made take hour later could live life without amazing four large speaker small echo dot returning say going order alexa speaker go big get echo otherwise tou returning two echo dot live without',\n",
       " 'love great product',\n",
       " 'easy set user friendly',\n",
       " 'really disappointed alexa plug wall socket time fault checking made assumption company technologically advanced amazon would sell product rechargeable battery could return would apple music boom speaker give flexibility alexa',\n",
       " 'think nd gen sound good st aux could add external speaker going get dot nd issue unique unit understand override default prevents playing blue tooth speaker playing group get delay using bt speaker unit heard able play group using bt speaker',\n",
       " 'everything',\n",
       " 'like interaction asking question like ask setup schedule connected lamp',\n",
       " 'supberb sound definitely worth extra money listen lot music',\n",
       " 'really love amazon echo think sound quality great lot fun really handy music get update weather sport',\n",
       " 'love grandkids',\n",
       " 'far worked well always intuitive link different device skill getting hang',\n",
       " 'work advertised',\n",
       " 'love',\n",
       " 'love new addition house speaker quality great love alexa two complaint suggestion future series would better communication ability example smart light house unless specify kitchen light kitchen light prior command either respond say recognize may want alexa respond say thank afterwards repeat alexa thank time respond husband know sound odd laugh maybe southern thing want alexa manner',\n",
       " 'like everything music trivia game weather',\n",
       " 'described received time like automatic enrolment music',\n",
       " 'great device',\n",
       " 'owned echo overa year new lack easy way increase decrease volume without telling increase decrease volume hard wife since english second language born korea sound echo superb keep',\n",
       " 'love kitchen work well',\n",
       " 'nice impressed wish say though',\n",
       " 'love product nice easy access much info',\n",
       " 'got great sound bass work time still hot miss recognizes thing',\n",
       " 'still discovering echo',\n",
       " 'amazing paroduct',\n",
       " 'good hearing range sound quality bit complicated set quite understand lot even speaking slowly clearly love flash briefing feature interfacing abode home security system',\n",
       " 'speaker sound good',\n",
       " 'absolutely love',\n",
       " 'best part product control thermostat light house anything dislike',\n",
       " 'thoroughly enjoying amazon echo installation easy using alexa app purchased kasa smart plug control living room light installation easy using kasa app sinqued right echo enjoying playing music echo sound quality awesome added kasa smart bulb kitchen setup seamless looking forward adding automation home',\n",
       " 'home entertainment',\n",
       " 'cool product easy setup fun use sound quality much better anticipated',\n",
       " 'love great sound easy connect use',\n",
       " 'work fairly new smart tv mainly tv manufacturer lg fault due supporting anything older tv year smart lock also need additional piece equipment order connect well speaker sound great work well',\n",
       " 'great sound little speaker',\n",
       " 'enjoy',\n",
       " '',\n",
       " 'cool',\n",
       " 'good quality great sound quality',\n",
       " 'work perfectly',\n",
       " 'great product sometimes alexa understand command fire tv fabulous speaker',\n",
       " 'love echo great sound smart',\n",
       " 'sure love',\n",
       " 'play great',\n",
       " 'work absolutely great',\n",
       " 'amazing product great sound quality',\n",
       " 'best thing invested thank much',\n",
       " 'extremely impressed item bought warehouse outlet minor imperfection tell even one work great come packaging sealed damage missing anything like sound quality see knock bose great family easy use minor learning curve learns voice integrates seamlessly amazon service wait get classroom lot fun even speaker let alone plan',\n",
       " 'love echo show bedroom wonderful music info sleeping sound',\n",
       " 'awesome life changer seriously able start morning alexa wake alarm playing music gotten used voice another room listen say love echo hesitate get one price speaker unbelievable buying cordless holder take echo anywhere love purchase love alexa',\n",
       " 'super impressed alexa prime lapsed play anything smart enough differentiate among spotify account use either randomly speaks nobody talking today unplugged sure ever use alexa',\n",
       " 'like everything',\n",
       " 'liked',\n",
       " 'never issue buying use electronics long get good like new read comment see used',\n",
       " 'family really love new echo',\n",
       " 'bought wife love',\n",
       " 'fun got today pod go car use house',\n",
       " 'like',\n",
       " 'third echo worth every penny like household employee small flat rate keep bedroom living room drop use intercom listen music answer quick question alarm wake school etc',\n",
       " 'listen music set timer',\n",
       " 'received echo perfect condition device easy set responds quickly without issue alexa great addition family',\n",
       " 'good sound like music scheduling like get random thought recorded think joke cute',\n",
       " 'purchased beginning learn far pleased amazed different action perform enjoying looking forward learning option provides',\n",
       " 'echo great others even though smaller',\n",
       " 'funny buy something look fun wind totally useful part home loving',\n",
       " 'bought replace dot living room speaker slightly better hears better tv unfortunately understand respond request well dot frequently request time get want dot usually exactly want first request consider upgrade',\n",
       " 'good experience far second generation echo many thing learn time yet right mostly enjoying music weather update using alarm feature personality also purchased mini smart socket yes excited begin using',\n",
       " 'trouble connecting tv exactly tech smart sure one grandson figure far using mostly music',\n",
       " 'simply love echo hardly watch tv anymore busy listening music speaker pretty goo size fun skill really make echo fun whole family',\n",
       " 'enjoyed entire echo experience',\n",
       " 'easy set',\n",
       " 'echo amazing device many time seems intuitive time ask something seems clear simple get result installation fairly straightforward messed several time simply thought step complete actually made lose ground figured advice patient app let know move next step biggest issue moment several echo device home would like use intercom told done however make echo aware others existence ask alexa answer instruction change name know likely fault would think designer would anticipate make easier find needed instruction small deal many device savvy people challenge',\n",
       " 'loving much',\n",
       " 'original alexa tap far nd generation best happy see making improvement new one would great update little think would help lot bug happy play music throughout whole house adjust bass treble thank',\n",
       " 'pleased echo nd generation nice alexa available music weather news probably lot discovered',\n",
       " 'pleasantly surprised sound quality echo big fan deep bass might sufficient though potential control home option explore evolve home smart home voice recognition impressive stylish fun regret purchase great technically change people ask play song movie responds instantly elderly loved one would great gift connected wifi simple use want unlimited music control sure amazon prime premium spotify blown away personal dj even conversation echo embarrassed say echo made laugh couple time ask tell joke tell package since amazon prime addict come extremely handy',\n",
       " 'easy setup love thing',\n",
       " 'alexa throughout house future arrived',\n",
       " 'already alexa amazon find today could resist getting echo also best thing ever use side house happier',\n",
       " 'arrived expected',\n",
       " 'bought week ago everything product excellent forget buy charger ordering must take outside pool worry hiring electrician put outlet yard',\n",
       " 'terrific',\n",
       " 'love echo',\n",
       " 'smaller original look nicer',\n",
       " 'work great',\n",
       " 'husband would call late adopter come technology decide would try echo serve primarily music source wow amazed great sound also great time listening favorite song buy asking alexa may even buy one elderly dad think enjoy one listen music even place call u',\n",
       " 'really enjoyed changing directv channel play iheartradio pandora adjusts ac thermostat turn living room light outside light',\n",
       " 'wanting one bought prime day absolutely love',\n",
       " 'glad got echo bluetooth speaker alexa much stuff non smart speaker personally love timer feature helped cooking multiple thing simultaneously pandora integration another feature use daily happy prime day purchase get echo hub echo dot future',\n",
       " 'see subject line love',\n",
       " 'love',\n",
       " 'easy setup',\n",
       " 'hesitant buy echo echo dot seems good enough echo except sound quality really feel needed however glad got difference sound really far superior echo dot listen greatest showman little power',\n",
       " 'sound quality great still learning different thing fun',\n",
       " 'got good deal work great prime setup bit pain fault crappy internet service worked great nice sound small speaker',\n",
       " 'love',\n",
       " 'work great perfect office',\n",
       " 'love one inside house one pool good bose speaker around house',\n",
       " 'easy use amazing',\n",
       " 'nice product',\n",
       " 'love echo totally amazed speaker quality bummed buy two since got prime day',\n",
       " 'responsive great sound quality size',\n",
       " 'efficient amazing cool use often every day',\n",
       " 'impressed quality sound echo definitely comparable bose mini gave star use apple music account',\n",
       " 'technology small device price good sound amazing must feature home',\n",
       " 'mainly use music learning time really nothing bad say',\n",
       " 'replaced st gen concerned smaller unit sound wrong anything volume clear good product',\n",
       " 'great addition echo plus',\n",
       " 'best',\n",
       " 'love feature play music every room multiple echo',\n",
       " 'love alexa surprised much use',\n",
       " 'use product enjoyment love',\n",
       " 'easy use great sound great purchase great price',\n",
       " 'easy set issue',\n",
       " 'unit add much pleasure echo plus music information home one room',\n",
       " 'extremely useful simple thing like spotify audible thing like sometimes answer everything ask still nice use',\n",
       " 'difficult set keep timing enter password',\n",
       " 'getting use using echo used shopping list listening music timer working great far',\n",
       " 'cool lot fun used week still learning capability',\n",
       " 'love love',\n",
       " 'love hard time setting apps',\n",
       " 'use office another apartment music information',\n",
       " 'great music little hard figure work',\n",
       " 'given year time birthday gift dad love ask alexa anything answer plus good homework purchased one prime day bathroom getting ready work listen music base metro booming replacement clock radio plus echo dot night stand alarm clock',\n",
       " 'impressed look clarity sound color',\n",
       " 'alexa amazing great speaker',\n",
       " 'still getting used alexa connected tv yet thing right use music information great',\n",
       " 'work sound great house barely sf sitting kitchen counter hear speak room lot functionality still discover',\n",
       " 'pure fun echo weather joke news briefing music still much use lot fun money',\n",
       " 'use time especially communicate kid throughout home',\n",
       " 'love still learning make lot thing easier like forget turn light another room ask alexa turn light',\n",
       " 'bought daughter turned love especially like calling feature since cell phone love playing music dancing amazon music play favorite song sometimes lol',\n",
       " 'got wedding gift discovered feature yet update playing music great though',\n",
       " 'impressed sound quality',\n",
       " 'pleased purchase echo smart speaker love fact play music different genre whenever want trouble first wi fi working',\n",
       " 'wife enjoy ease playing music game fun entertaining look forward adding smart product home',\n",
       " 'second echo love help kitchen set timer listen news prepare grocery list get great music',\n",
       " 'sound quality good wish alexa could answer question',\n",
       " 'second echo dot speaker weak purchased listening music speaker great',\n",
       " 'great sound',\n",
       " 'great',\n",
       " 'really use speaker stream music month kinda useless',\n",
       " 'set user friendly set user friendly hoped alexa app able download pc without installing invasive driver wife retired able install alexa son supplying smart phone using alexa yet',\n",
       " 'easy set really enjoying',\n",
       " 'echo come built battery plugged time use make quite inconvenient',\n",
       " 'compact bit better original',\n",
       " 'love pretty cool',\n",
       " 'living room music sound really good living room hear upstairs',\n",
       " 'great product set easy sound wonderful',\n",
       " 'far like bought music though sound pretty good',\n",
       " 'love',\n",
       " 'love',\n",
       " 'glad bought',\n",
       " 'like type fun music',\n",
       " 'like volume top turn quickly',\n",
       " 'beyond capability program grandkids lve',\n",
       " 'love new echo give hour music help thing difficult set help tekkie',\n",
       " 'almost good bose love whole house music',\n",
       " 'alexa hardly came',\n",
       " 'easy setup using app also easy install phone sound quality listening music pandora wonderful',\n",
       " 'still learning use echo far love',\n",
       " 'work awesome',\n",
       " 'work great',\n",
       " 'small speaker sound great',\n",
       " 'great sound size prize course alexa',\n",
       " 'echo definitely need one',\n",
       " 'great device seems work better st generation',\n",
       " 'item longer work month use connect wifi unresponsive reset request',\n",
       " 'love echo dot easy fun get drop grandaughter life mile away sound like right next',\n",
       " 'work great different new one',\n",
       " 'one going kitchen timer music duty',\n",
       " 'love volume could definitely use boost better built speaker would definitively star thought ahead put audio auxiliary input bought dedicated speaker echo proved best way go',\n",
       " 'work fine',\n",
       " 'work great look brand new love new echo dot getting main room house',\n",
       " 'refurbished item work like new love easy set love issue volume listening relaxing fine expecting anything else recommend purchasing speaker',\n",
       " 'loud',\n",
       " 'nd one love',\n",
       " 'sure feel echo dot many thing need get used ask right question understand',\n",
       " 'thing barely work select rd party apps stuff think could box sending mine back asap waste money',\n",
       " 'gift man like plug picture show cord would prefer cordless still work though purpose bought',\n",
       " 'th amazon echo device purchased refurbished satisfied time different tell brand new price cheaper echo wake u keep timer play music u act encyclopedia turn light much',\n",
       " 'small echo dot amazing sound come great change nest thermostat phillips hue light without leaving chair',\n",
       " 'talk time song dislike device',\n",
       " 'never disappointed amazon technology',\n",
       " 'worked promised',\n",
       " 'returned echo dot getting refund returned one package want refund package see',\n",
       " 'working',\n",
       " 'weird pause speech pattern present echo device',\n",
       " 'sure love alexa lol thank great price product',\n",
       " 'work',\n",
       " 'echo fan one work',\n",
       " '',\n",
       " 'bought bathroom listen shower love',\n",
       " 'always respond spoken promp word thought would connect echo upstairs use like intercom able',\n",
       " 'fast shipping work well',\n",
       " 'love',\n",
       " 'love love love new free assistant',\n",
       " 'six word alexa tell poop joke',\n",
       " 'worked month stopped tried everything try make work nothing working want refund',\n",
       " 'poor quality gave away',\n",
       " 'refurbished way go echo work like new',\n",
       " 'love',\n",
       " 'five need say',\n",
       " 'speaker arent loud alexa great though besides naw',\n",
       " 'work great sound good',\n",
       " 'never could get work techie friend looked said adapter strong enough power looked like bought dollar store going replace adapter hope work',\n",
       " 'almost like star trek home fun try outsmart',\n",
       " 'add echo system refurbished product work like new',\n",
       " 'great office use daily many way include spelling background music',\n",
       " 'awesome love alexa',\n",
       " 'sure really wanted one extremely useful get one love',\n",
       " 'initially echo dot worked well time dot stopped responding alexa unless within one foot yelling echo echo dot room would respond without response echo dot would recommend buying refurbished',\n",
       " 'great product fast shipping',\n",
       " 'bought echo dot refurbished stop whatever function performing quite often wake every time randomly turn nothing buy refurbished echo dot',\n",
       " 'perfect work great problem refurbished',\n",
       " 'dont trust',\n",
       " 'perfect condition love echo',\n",
       " 'love beautiful experience especially hooked smart lighting accessory',\n",
       " 'got within last couple week tell issue son wanted alexa th birthday could tell joke could ask question listen music enjoy one much bought second one week prime deal day',\n",
       " 'divertido',\n",
       " 'great product work great',\n",
       " 'bought guest room radio alarm clock information center much',\n",
       " 'great buy bought go echo love speaker best music work great kitchen timer alarm',\n",
       " '',\n",
       " 'work perfect save buck buy refurbished look brand new',\n",
       " 'look work perfect glad got good deal',\n",
       " 'good new one bought le',\n",
       " 'love work well',\n",
       " 'everything perfect',\n",
       " 'good price prompt shipping working flawlessly',\n",
       " 'love alexa',\n",
       " 'room improvement price cannot complain much still complain however audio terrible kind like listening speak n spell',\n",
       " 'iove bought son wanted awesome',\n",
       " 'echo work price great deal issue dot speaker bit tinny good second unit like attach external speaker sound good buy',\n",
       " 'thanks',\n",
       " 'wanted use radio intercom get terrible fm reception live speech recognition software horrible wife native american whose language english north texas neither accent birth area yet good job understanding u bought two thing additionally wifi reception poor marginal buy wifi range extender office ten foot router problem switched around difference disconnected dust collector',\n",
       " 'third dot work perfectly use one multiple time day absolutely love',\n",
       " 'item never worked box broken spent several day trying get working running fix amazon thing accomplished never order another refurbished device',\n",
       " 'already echo plus bought one bedroom love function',\n",
       " 'simple set music everywhere',\n",
       " 'worked like brand new dot satisfied',\n",
       " 'great product returning new alexa dot refurbished already giving problem connection',\n",
       " 'echo already went one refurbished save buck work great love new generation one rubber bottom nice',\n",
       " 'love fact unplug take basement want laundry',\n",
       " 'refurbished good new one bought',\n",
       " 'good new',\n",
       " 'granddaughter love',\n",
       " 'price great trouble hearing across room moving another spot seems working fine buy want every room',\n",
       " 'set alexa blue tooth speaker enjoy listening music outdoors wait try new stuff using alexa',\n",
       " 'thanks',\n",
       " 'work great',\n",
       " 'never buy certified refurbished echo dot bought certified refurbished echo dot unit poor receiving command sometimes even acknowledge command never buy refurbished echo dot unit received probably never certified refurbished indicated also bought new echo dot work perfectly disappointed',\n",
       " 'started amazon productsand regret nothing absolutely great journey product continue improve day day life',\n",
       " 'used several month without problem',\n",
       " 'first smart device surely buying device compatible one',\n",
       " 'love',\n",
       " 'love good new one',\n",
       " 'larger echo time love bought one another portion house since several wifi home device wanted voice control house',\n",
       " 'love product use turn light answer quick question',\n",
       " 'great buy',\n",
       " 'leary refurbished work great',\n",
       " 'puny sound work great',\n",
       " 'great',\n",
       " 'exactly like new tell difference new dot got prior one work perfectly love alexa',\n",
       " 'work perfect wear tear device love alexa working making home smart',\n",
       " 'work good',\n",
       " 'thing like shuts work great',\n",
       " 'excellent product mint condition refurbished unit would never know refurbished',\n",
       " 'already owning couple echo frustrated also use intercom finally amazon enables drop feature use echo reach family remote part house teenager insist never heard yelling come dinner feature mainly use echo standard stuff playing music setting alarm answering question etc life changing home device amazon would believe convenient around refurb saved buck look work brand new one',\n",
       " 'love worried refurbished part first first echo awesome used everything light since work night shopping well spotify planning getting parent help everyday thing take granted young would recommend everyone',\n",
       " 'love alexa hope every room soon',\n",
       " 'simplicity use setting',\n",
       " 'great got one gazebo one upstairs',\n",
       " 'work great never issue',\n",
       " 'everything asked',\n",
       " 'work great good sound',\n",
       " 'use echo listen music well sort research tool answer variety question would like volume could go little bit louder complain also believe internal power source order use echo must plugged time using universal charging cord would nice use echo dot go without buy product',\n",
       " 'love great fun',\n",
       " 'love',\n",
       " 'outstanding use time work like say',\n",
       " 'saving always nice son always say buying refurbished mean getting new device product le run diagnostics everything corrected',\n",
       " 'work perfectly alexa turn light tv roomba',\n",
       " 'never would know refurbished',\n",
       " 'far good',\n",
       " 'look performs new complaint',\n",
       " 'go great echo',\n",
       " 'work great like new one already',\n",
       " 'item work certified refurbished mean work advertised instead item crashed soon turned plugged trying connect phone echo dot crashed would disconnect orange light would freeze thing would reboot blue light alexa would tell ready connect freeze mid sentence tried holding action button second anything returning immediately hope actually fix item next buyer purchase',\n",
       " 'fast service got ordered thank',\n",
       " 'love even though still trying figure thing item work great phone',\n",
       " 'none',\n",
       " 'echo one bought brand new refurbished one honestly tell difference performance look',\n",
       " 'great product learned work thing awesome',\n",
       " 'work',\n",
       " 'work time',\n",
       " 'love though wish portable',\n",
       " 'course',\n",
       " 'could tell refurbished work excellent would highly recommended instead purchasing new',\n",
       " 'got mom love',\n",
       " 'love echo dot look brand new work perfect satisfied',\n",
       " 'new',\n",
       " 'small problem box rep amazon called walked reset process solved issue shocked get response quickly real effort made including follow email get thing working one google clone use learn like also plan install one car boat garage alexa new best friend lol think gf worried alexa learns cook time limited',\n",
       " 'love alexa dot play game son ask weather love work amazon fire tv',\n",
       " 'like could ask different question different thing work intermittently smart tv ask change volume sometimes ask change channel sometimes reset know refurbished okay expected',\n",
       " 'far certified refurbished echo dot work well little confusing green ring echo dot know asked alexa said receiving call drop case took minute figure notification delivery amazon believe ring supposed yellow pulsate message notification refurbished echo dot green pulsed',\n",
       " 'arrived quickly easy set refurbished amazon echo dot beyond expected alexa become buddy great assistant',\n",
       " 'work advertised speak clearly research command also get wall holder keep way set breeze make sure close device initially connecting phone reason made set easier though could psychological haha',\n",
       " 'love two echo dot third one ordered give gift defective speaker return process still done already taken week',\n",
       " 'already returned',\n",
       " 'refurbished echo wonderful purchased mother love ability contact without phone listen music weather ask question wonderful gift work excellently problem',\n",
       " 'work good however price went week purchased',\n",
       " 'work amazingly bought daughter love',\n",
       " 'love alexa great helping making appointment playing song like else looking forward',\n",
       " 'got bathroom love listen music whe showering',\n",
       " 'dot original new one work perfectly buy future dot reconditioned',\n",
       " 'little hard get pare others problem',\n",
       " 'weary picking conversation actively using heard happening news concerning wish amazon would release something widespread push firmware prevent heard yet',\n",
       " 'really dislike alexa dot thought cortna cool alexa awesome application family unbelievable device seems alive must get',\n",
       " 'happy refurbished echo dot two week far working perfectly even though come original box look like new happy purchase',\n",
       " 'thumb',\n",
       " 'workreat',\n",
       " 'something wrong first one even rep spoke could fix replacement registered someone else price dot went price refurbished one bought brand spanking new one problem new one',\n",
       " 'work expected',\n",
       " 'problem',\n",
       " 'almost every room really enjoyed work perfectly',\n",
       " 'purchased grandson',\n",
       " 'like new',\n",
       " 'happy ordered',\n",
       " 'love dot especially ability talk one really convenient issue refurbished like new',\n",
       " 'started taking used since unplugged day one talking daughter laying bed next started going movie moana completely scared sh daughter',\n",
       " 'work great speaker sound fine overall would recommend',\n",
       " 'great like new',\n",
       " 'loved price essentially brand new dot opening really tell refurbished everything looked brand new le new unit consider better deal really love versatility echo dot get one',\n",
       " 'pleased order wanted',\n",
       " 'think throughout house convenient set timer check weather whatever wherever',\n",
       " 'love best experience refurbished device excellent',\n",
       " 'love echo dot',\n",
       " 'refurbished item fine aware fee echo set room however missing cordthank',\n",
       " 'two week setting longer work connection light sound guess purchased refurbished dot',\n",
       " 'worked like brandnew unit great addition collection',\n",
       " 'great price work perfectly saved money refurb would buy',\n",
       " '',\n",
       " 'god',\n",
       " 'good',\n",
       " 'great bought one bought another right away grab smart switched set smart home capability highly recommended',\n",
       " 'like new',\n",
       " 'worked still need figure link device though set sonos pretty easy product fault time figure',\n",
       " 'useful',\n",
       " 'worst amazon purchase made big amazon fan love brand unlimited digital music prime video even buy online game music movie amazon app tried use make simple purchase anything useless',\n",
       " 'work well microphone pick well full size echo audio quality okay size',\n",
       " 'bought two refurbished one work home work perfectly appear brand new',\n",
       " 'amazon disappoint',\n",
       " 'work great bt receiver output connected vintage stereo equipment',\n",
       " 'working great far tell new edit longevity year real test',\n",
       " 'amazing',\n",
       " 'love everything',\n",
       " 'used dot work fine compliment echo',\n",
       " 'work like new one tell difference new one bough refurbished one',\n",
       " 'well big fan echo one went bathroom work great expected',\n",
       " 'purchased year old mother love talking alexa responsive detect name room',\n",
       " 'like new performance brand new one problem',\n",
       " 'echo dot disconnect speaker time day buy refurbished product star effort',\n",
       " 'love great product',\n",
       " 'work good satisfied',\n",
       " 'love alexa sound dot best echo nd gen kitchen living room got bedroom significant difference sound dot lack full base sound sound coming cheap portable speaker really disappointed returned right away shelled money buy second echo bedroom also',\n",
       " 'took awhile get connected electronically savy love',\n",
       " 'cant seem get thing sink wireless sure returning try one time',\n",
       " 'absolutely love',\n",
       " 'product stopped working return time ran',\n",
       " 'second dot work great refurbishedthought new',\n",
       " 'love guy work great',\n",
       " 'love second alexa bedroom great checking weather meditation music timer perfect husband use eye drop multiple time day keep eye closed minute',\n",
       " 'purchased refurbished work like brand new minute set easy echo dot command start playing music backyard deck sound system',\n",
       " 'substitute original echo dot performs well sound quality poor listen highest level',\n",
       " 'love echo dot help husband get netflix apps amazon fire tv problem refurbished planning getting another one amazon fire stick bedroom',\n",
       " 'stopped working month warranty good month would assumed amazon product sold amazon would higher standard guaranteeing would work whole month mean product supposed piece junk offered discount wanted buy another one would want buy another one',\n",
       " 'like new problem whatsoever alexa thank',\n",
       " 'like uncle sometime go little haywire',\n",
       " 'bought son work return',\n",
       " 'bought quit connecting wifi responding voice within month hard soft reset fix problem',\n",
       " 'received echo dot today good condition advised paid amazon writing raised price research buying get good deal set dot went simple enough plug follow app instruction except initially took actually show iphone wifi setting called amazon customer service dunno lately getting terrible support guy took call rambled completely unhelpful script ended setting dot middle spiel sure norm refurbished dot pretty finicky wifi range randomly disconnect even though app show range ghz connection strong reconnecting pain time well said alexa work work amazingly well speaker hooked one thing really enjoy mic range sensitivity one annoying limitation apple siri playing audio device speaker music podcasts etc hey siri feature useless alexa problem hearing whatever playing time amazingly fast responsiveness tried louder speaker yet sure continue hold true setting alexa control wireless device breeze albeit limitation support arlo device nil special setting led device eg rainbow effect alexa handle know change solid color brightness level rating would lower gotten decent price item connectivity problem persist may exchange return item want though alexa kind growing',\n",
       " 'bought everyone saying much love need used volume loud enough played music treadmill rather use tower speaker x louder',\n",
       " 'worked like new',\n",
       " 'second one refurbished model work least home',\n",
       " 'bad device know refurbished activated nobody talking activated start talking talk yell super lauded',\n",
       " 'good new like brand new save money get one',\n",
       " 'adding room convenience',\n",
       " 'nice work good time easy recognize voice repeat several time time almost screaming',\n",
       " 'took chance certified refurbished unit look brand new excuse disappointment minute trouble free set effortless bluetooth speaker connectivity alexa app iphone flawless listening favorite tune bose bluetooth setup happier walk door ask alexa play music viola instant atmosphere opening ipad going setting turning bluetooth accessing pandora app make thing effortless true joy right box discover us fine piece technology worth every penny',\n",
       " 'alexa sister second dot',\n",
       " 'love alexa echo dot two one new one refurbished work great become go sooo many thing love alarm every morning whenever love play music sound ocean nature sound trying sleep love many thing',\n",
       " 'bought refurb work new one bought prior came original packaging well',\n",
       " 'love like second wife',\n",
       " 'far impressed save group correctly understand time sure excitement alexas voice sound like water supposed understand going return try google home',\n",
       " 'work well obvious issue refurbished',\n",
       " 'work great tell refurbished set kid mode home adding love thing',\n",
       " 'great product useless overall many unnecessary feature unless smart home need',\n",
       " 'worked good two new echo dot preciously purchase',\n",
       " 'bought mother love love guard dog feature say give sense security night leaf house',\n",
       " 'bought mainly speaker playing music video phone working read instruction working',\n",
       " 'work',\n",
       " 'bought two work great much electronics running home alexa want need done',\n",
       " 'nd one come',\n",
       " 'blue light blink time',\n",
       " 'fun useful still learning new trick useful functionality future human computer interface household automation like star trek knew would soon',\n",
       " 'work great control tv light various device lately using wake know time want open eye shout alexa time could figure get house hold chore walk dog golden sound great size expect echo plus much better audio get larger expensive echo',\n",
       " 'work great',\n",
       " 'sure like product little want one every room daughter constantly asking alexa spell word barely tapped thing product capable looking forward learning capability',\n",
       " '',\n",
       " 'great product work well',\n",
       " 'absolutly love',\n",
       " 'bought first echo dot loved got work absolutely love',\n",
       " 'work promised',\n",
       " 'work great existing smart home setup',\n",
       " 'perfect could tell difference new one',\n",
       " 'cant figure use',\n",
       " 'good sometimes hear well',\n",
       " 'little apprehensive buying refurbished electronic product amazon guarantee thought would try glad probably buy another refurb product form amazon love alexa product several one sits desk small footprint great sound use daily work great',\n",
       " 'bad bad speaker sound',\n",
       " 'great device mainly use verbally add thing shopping list occasionally use number fun thing program like go red alert make tardis land yes house geek even chose wake word computer instead alexa need majel barret voice geek heaven easy get premium spotify work properly still sure get multiple music account attached listen different music different room far still worth often asking time weather even give u news briefing also use intercom system really awesome plus fun knowing nsa listening everything',\n",
       " 'love',\n",
       " 'purchased daughter love amazing love game',\n",
       " 'always work',\n",
       " 'good new perfectly packaged zero issue dot',\n",
       " 'love bought granddaughter play music ask question entertained hour good buy honest opinion',\n",
       " 'issue work look great',\n",
       " 'fun toy daughter read',\n",
       " 'refurbish echo dot received new condition new packaging complaint neat little gadget drive wife nut',\n",
       " 'received echo gift loved much decided get dot bedroom easy set big difference sound quality would still buy',\n",
       " 'worked advertised thanks',\n",
       " 'new amazon product great everything bought refurbished complete garbage never purchase amazon refurbished total dissatisfaction',\n",
       " 'work good microphone good better echo product',\n",
       " 'took little work set finally got sound quality best got work great check weather ask cooking question kitchen play radio want music probably upgrade echo plus better sound',\n",
       " 'love alexa best thing ever bought know ever lived thing amazing happy product wish would use google',\n",
       " 'loved work great',\n",
       " 'extremely low volume',\n",
       " 'trouble getting program downloaded phone ended using computer interesting answer come wikipedia however give echo dot music playing department heard song music totally forgotten mainstream station also amusing alexa responds know think yard cotton fabric refer football playing paid full price gadget would sorely disappointed seems reasonable step hal',\n",
       " 'brought replace one moved range previous non refurbished unit would seldom able find wi fi connect got tired hearing message trouble connecting check alexa app unplugged went troubleshooting reconnected several time strong',\n",
       " 'want listen music come several echo dot unit simultaneously must pay monthly fee thought amazon apple paid many could one room enough money',\n",
       " 'purchased gift',\n",
       " 'love',\n",
       " 'overall good device bought workout room issue reaching volume heard standard row machine could use much better speaker',\n",
       " 'work great simple set alexa way accurate imagined im using thought wish alarm could set bit thats complaint listening say wake word worried lose conspiracy theory speaker great hold getting one turned gen like',\n",
       " 'voice clarity made eavesdropping effort much easier government',\n",
       " 'worked perfect',\n",
       " 'little trouble beginning replaced old router work good except current temperature time alexa much degree like degree alexa would say degree otherwise everything work expected enjoy listening music amazon pandora station requesting favorite song recording artist',\n",
       " 'bought three three worked flawlessly labeled refurbished known',\n",
       " 'device work perfectly good price love alexa great fun music great get radio station need morning traffic report think would enjoy ai house fun educational entertaining even people tech savvy',\n",
       " 'eh work half time respond say wake name work fine',\n",
       " 'great little thing work better siri',\n",
       " 'amazing love',\n",
       " 'bought son love',\n",
       " 'first second generation echo dot think prefer volume ring first gen better button second gen still job great price got still definitely recommend',\n",
       " 'fun use morning briefing',\n",
       " 'arrived time work amazing',\n",
       " 'like new set quick easy',\n",
       " 'like new good refurbishing',\n",
       " 'love',\n",
       " 'love echo dot',\n",
       " 'like know music type least wireless volume high',\n",
       " 'great product',\n",
       " 'work great reason leaving star wont play unless plugged whole time pretty irritating especially outlet available',\n",
       " 'work great',\n",
       " 'love ita like personal assistant computer everything else one',\n",
       " 'problem item could inexperience ordered wrong thing decided set use alexa trying replace small bluetooth speaker bedroom thought could learn go downloaded app never could get echo sync iphone decided give one kid probably enjoy use intended',\n",
       " 'e perfecto',\n",
       " 'working good far',\n",
       " 'working great daughter love',\n",
       " 'work great',\n",
       " 'love',\n",
       " 'wanted white dot white bathroom top black shown knew realize cord plug also black wanted white cord plug',\n",
       " '',\n",
       " 'work great',\n",
       " 'amazing',\n",
       " 'great product',\n",
       " 'work perfectly',\n",
       " 'perfect',\n",
       " 'set echo dot worked hour died completely buy refurbished sent back return day received',\n",
       " 'echo dot horrible volume phone louder device bos one case',\n",
       " 'overall work well connectivity issue definitely worth money',\n",
       " 'issue refurbished unit performed expected would buy another one needed',\n",
       " 'great mom inside owlhead jacuzzi',\n",
       " 'work great put son room use drop option get attention gaming watching tv',\n",
       " 'perfect',\n",
       " 'looked brand nrw nothing complain defently ordering',\n",
       " 'ok speaker pretty terrible google home better product',\n",
       " 'love',\n",
       " 'love answer stupid question tell weather get couch',\n",
       " 'first one quit working shortly got next one becomes unresponsive voice time way get work app sure dot way',\n",
       " 'bought go niece room tell refurbished look good work like new',\n",
       " 'device working followed instruction alexa echo dot come upsetting',\n",
       " 'sent back due crackling noise turning expect refurbished item',\n",
       " 'best price could find useful around answer question handy find phone also intercom system',\n",
       " 'never satisfied product perfect introduction alexa',\n",
       " 'work well speaker grand getting another speaker drop future would gone full size echo',\n",
       " 'love echo thing full size version sound better though',\n",
       " 'work great',\n",
       " 'need life plan time date music',\n",
       " 'seems trouble hearing say wake word despite trained voice wonder something buying refurbished google home mini problem hearing u much louder',\n",
       " 'love work perfectly',\n",
       " 'brand new echo dot thought refurbished would good quite different expectation refurbished unit even turn realized power adapter faulty way amazon send power adapter according return option love amazon buy even toilet paper truly let update amazon contacted credited enough buy new power adapter shop amazon always trust deliver product',\n",
       " 'bought family member gift called see like said love',\n",
       " 'loud quality ease use great sound perfect background music would suggest connected together trying use hosting louder party',\n",
       " 'looked brand new work great love echo dot refurbished one like new',\n",
       " 'nd one use time',\n",
       " 'working like new one l another alexa device lm fanatic',\n",
       " 'echo good',\n",
       " 'work great',\n",
       " 'great price extend range super value dot offer hooked wireless speaker use working outside dot made outdoor sound range possible without disturbing indoor light control possible',\n",
       " 'amazingly fun daughter asked question first day set daily alarm weekend reminder playlist morning show random song daily bible verse weather morning commute tell way go dodging traffic get one linked phone yet',\n",
       " 'work perfect difference refurb one new one house buying refurbs',\n",
       " 'great product wake every morning time',\n",
       " 'like new difference new unused original',\n",
       " 'complaint far know exactly like new little cheaper great',\n",
       " 'perfect condition',\n",
       " 'like new',\n",
       " 'work well new version got discount echo speaker decided purchase version amazon state warranty',\n",
       " 'received echo gift needed another bluetooth something play music easily accessible found smart speaker wait see else',\n",
       " 'without cellphone cannot use many feature ipad see use great alarm u r almost deaf hear alarm bedroom living room reason enough keep fun ask random question hear response seem smartbon politics yet',\n",
       " 'think th one purchased working getting one every room house really like feature offer specifily playing music echo controlling light throughout house',\n",
       " 'look great',\n",
       " 'love listened song heard since childhood get news weather information great',\n",
       " 'sent year old dad talk constantly',\n",
       " 'love learning knew thing eveyday still figuring everything work far easy use understand make laugh time',\n",
       " 'purchased mother knee problem give something trying come getting around fast like enjoys little big thing alexa play song time cook',\n",
       " 'love love love',\n",
       " 'expected',\n",
       " 'love wife hate',\n",
       " 'really happy purchase great speaker easy set',\n",
       " 'using alexa couple day lot fun new toy like new household member trying learn different featues benefit come',\n",
       " 'love size nd generation echo still need little improvement sound',\n",
       " 'liked original echo shorter greater fabric color choice miss volume ring top plus minus button big deal ring w comforting well like use standard usb charger port instead previous round pin guess sound seems work still answer alexa echo computer like',\n",
       " 'love echo good music sound playing alexa understands command difficult time find specific playlist song spotify good amazon music lacking major program',\n",
       " 'love alexa use play music play radio itunes play podcasts anypod set reminder listen flash briefing news weather every morning rely custom list like able voice control volume sure continue find new us sometimes bit frustrating alexa understand saying',\n",
       " 'set day still adding smart home device speaker great playing music like size stationed kitchen counter intrusive look',\n",
       " 'love play sleep sound immediately ask',\n",
       " 'got second unit bedroom expecting sound improved didnt really see difference overall big improvement st generation',\n",
       " 'amazing product',\n",
       " 'love echo easy operate load fun everything advertised use mainly play favorite tune test alexa knowledge',\n",
       " 'sound great love',\n",
       " 'fun item play get used using sometimes hard time answering question ask think better',\n",
       " 'like one',\n",
       " 'still learning capability far pretty pretty pretty good',\n",
       " 'like',\n",
       " 'work well need learning command unique owner user like alexa learn tasha birthday alexa learn definition fine etc great',\n",
       " 'speaker sound pretty good small setup pretty easy bought two reason rate followed instruction synching music unit know done correctly sync primary motivation purchasing multiple unit',\n",
       " 'device awesome',\n",
       " 'bought compare speaker quality first generation speaker like sound better ship daughter though like fact first generation chargeable base bought keep mobile need better sound',\n",
       " 'love echo still learning thing able follow instruction included package found great one u tube',\n",
       " 'speaker better st generation echo',\n",
       " 'thing way cool get one want cool',\n",
       " 'first digital assistant giving good review speaker really good cheap price prime day fun play used alarm clock going get first place ended echo go one definitely try like best number device connect purchase came smart plug connect lamp alexa turn light',\n",
       " 'husband like able use listen music wish knew capability',\n",
       " 'android would allow alexa connect fortunately sister apple cell hour tech support fixed glitch running',\n",
       " 'far good',\n",
       " 'tried play certain broadway show like camelot give ne group camelot',\n",
       " 'great',\n",
       " 'satisfied echo alexa control light family room wife listen jimmy buffet asking alexa',\n",
       " 'like siri fact siri answer accurately alexa see real need household though good bargain prime day deal',\n",
       " 'love echo still learning every thing work ton fun',\n",
       " 'love much',\n",
       " 'different apple play specific list music must amazon spotify plus prime etc account must pay play music star reason everything else',\n",
       " 'excelente lo unico e que esta en espa ol',\n",
       " 'still learning use far echo great sound actually much better expecting',\n",
       " 'work expect also good sound quality considering price sale feature',\n",
       " 'sound echo nd generation phenomenal mention love alexa helpful',\n",
       " 'like google better',\n",
       " 'let play learn get',\n",
       " 'work advertised easy setup still learning',\n",
       " 'great sound easy set',\n",
       " 'love alexa bought others friend',\n",
       " 'love echo purchased company husband alexa great say name tell joke play favorite song',\n",
       " '',\n",
       " 'love able listen music easily still learning feature available',\n",
       " 'really know could use device used thing need overview',\n",
       " 'love wish built hub',\n",
       " 'use primarily play music work wonderfully still getting used many thing amazon sent several tip since got thanks help',\n",
       " 'easy set',\n",
       " 'fast response amazing clear concise answer sound quality fantastic still getting used alexia usde echo full extent',\n",
       " 'need na na nana',\n",
       " 'everything expected',\n",
       " 'love echo work like said would smart home cannot speak function everything else good',\n",
       " 'great sound small package easy set use fun',\n",
       " 'work sound great',\n",
       " 'sound amazing many collection music',\n",
       " 'setting',\n",
       " 'always listen',\n",
       " 'awesome',\n",
       " 'bought control fios television work well hoping time control fios discovered thing alexa play music ask great sound alexa play game play radio station play old time radio program like long ranger alexa many apps add ability day played madlibs great fun also alexa control household appliance purchased alexa compatible power strip control lighting fan tv component looking forward implementing controll also add alexa component chosen music play room component located',\n",
       " 'speaker excellent sound work perfectly',\n",
       " 'like',\n",
       " 'love everything',\n",
       " 'little nervous received new echo really tech savvy found bit intimidating first take long figure happy purchase thinking adding echo spot',\n",
       " 'like still learning use',\n",
       " 'great technology believe speaker volume quality wonderful wish bought another one',\n",
       " 'purchased echo dot husband father day us constantly hearing quality sound echo nd generation brainer best gift ever',\n",
       " 'work fine',\n",
       " '',\n",
       " 'clear music',\n",
       " 'fun use good sound quality',\n",
       " 'echo work well able sync amazon music device',\n",
       " 'work great think amazon charge another cent unlimited music prime buy echo',\n",
       " 'already echo dot echo even better fuller sound also setup let phone call made contact list great',\n",
       " 'speaker sound really good',\n",
       " 'good sound work well',\n",
       " 'love alexa savvy support helpful patient',\n",
       " 'love thinking getting one prime day discount offered could pas fun ask alexa play song group come playlist amazon prime music also connect iphone bluetooth play music pandora youtube video using alexa speaker fun asking alexa different type question information like weather news even time country downside limited data wifi plan alexa us burn playing music',\n",
       " 'like far lot try yet',\n",
       " 'love using strictly music great',\n",
       " 'love echo love size material speaker quality hooked one light easily work additional light thermostat next echo dot bedroom lot echo think traffic weather trivia etc',\n",
       " 'love',\n",
       " 'entire family love alexa echo part family',\n",
       " 'great fun getting know function product wow family fun homework help talking grandchild also echo huge bonus wait learn',\n",
       " 'love',\n",
       " 'awesome thing love alexa',\n",
       " 'worked exactly expected speaker great sound perfect classroom',\n",
       " 'love love new little gadget made life much easier like personal secretary living home hardly need cd anymore since alexa play everything need going get alexa dot soon room thanks',\n",
       " 'speaker surprising quality happy purchase',\n",
       " 'easy set work wonderful love',\n",
       " 'really impressed sound quality playing music device bass sound almost like coming bigger speaker prop amazon',\n",
       " 'still great product sound quality seem worse get wrong definitely get used within hour definitely feel like echo gen sound quality better besides great addition able play bluetooth wifi even better',\n",
       " 'outlet work disappointed',\n",
       " 'great device responsive helpful',\n",
       " 'sound terrible u want good music get bose',\n",
       " 'liked sound troubling paid extra money access million song sometimes work ex alexa play italian song understand play opera tosca response sorry',\n",
       " 'easy set use bad plugged would nice take outside operate battery recharged',\n",
       " 'still learning way use real hit grandkids ask play music dance yr cute',\n",
       " 'star generally like product great ask like playing music setting timer making call reason rate sometimes connection dy echo stop playing music show red ring seems connection issue overall great product',\n",
       " 'work great upgraded echo dot full size echo happier',\n",
       " 'alexa else say',\n",
       " 'upgraded lilttle echo dot happy sound',\n",
       " 'excellent product set ease well',\n",
       " 'first gen echo since first came worked well purchased nd gen prime day far happy seems improved speaker provides enhanced sound music',\n",
       " 'love echo smart speaker love volume clarity easy set wonderful gift age',\n",
       " 'wonderful product fast delivery',\n",
       " 'initially harder set called tech knowledgeable working great',\n",
       " 'easy set family love',\n",
       " 'great sound responsive voice command',\n",
       " 'live long without echo get enjoy music style asking alexa going greade wireless love echo love alexa',\n",
       " 'cool product speaker sound good spotify blasting',\n",
       " 'much fun alexa love able listen music across room busy something else',\n",
       " 'far seems nice item pick voice understands without problem day asked turn music next room heard fine used listen music check weather done thing well',\n",
       " 'love echo',\n",
       " 'love helpful use remembering thing sleep ask anything week still learning',\n",
       " 'better st gen every way except one really miss ring top volume control quicker easier grab top twist without look button find one press time also wish bass bit better great device happy',\n",
       " 'love alexa',\n",
       " 'far like',\n",
       " 'thoroughly enjoying ecoo love read audiobook office simply open audiobook kindle continue elsewhere wonderful listening music mood book great setting reminder much',\n",
       " 'still love',\n",
       " 'love',\n",
       " 'love sound quality unit clear sound',\n",
       " 'listening talk radio morning turning light etc system excellent job full house sound system streaming sirius',\n",
       " 'week still learning alexa learning process love music call time listen podcasts radio station started keeping shopping list grocery list love search paper pencil getting time temperature great wait weather report sound good fussy woofer tweeter base etc echo fine afternoon going try dropping son get home going surprise',\n",
       " 'much feature',\n",
       " 'great sound quality great feature great product multi room music cool',\n",
       " 'cool',\n",
       " 'everyone echo two three bought echo qvc',\n",
       " 'annoying everything show alexa able downloaded spend much time trying figure phrase machine may well look',\n",
       " 'alexa since beginning accidentally spilled water replaced nd generation decided without echo setup easy working within minute',\n",
       " 'like able tell alexia music want hear sometimes trouble finding song specific title',\n",
       " 'like look better original echo moved old echo basement family room nice sound',\n",
       " 'echo wonderful still learning use music request somewhat limited',\n",
       " 'know half thing asked recognize sprinkler wifi controller even though product detail say compatible program change wifi thermostat setting matched wifi router handy music player amazon music',\n",
       " 'love',\n",
       " 'awesome understands kid',\n",
       " 'pleasantly surprised sound quality many feature nice easily hear particular artist hear book simple command looking forward exploring option device',\n",
       " 'met exceeded expectation easy set really quick response',\n",
       " 'like fact get kind music prime want request alexa liked informative photo little pamphlet wish included connect tv etc command alexa really love music',\n",
       " 'found way access echo thorough prime account think part top line video music etc also think setup app define example music like well integrated echo tried ask playlist echo sure even though set play list setting also like fact word exact match playlist name never remember like ready nature echo respond query',\n",
       " 'great item added audible book make even better thank',\n",
       " 'prime day nd gen echo sale resist beginning smart home set happier say alexa done amazing job connecting smart device thanks control light smart plug tv etc trouble connecting echo wifi phone app work perfectly fine let add skill routine smart device timer much sound quality good enough since audiophile alexa hear voice even watching movie high volume design great modern definitely add nice touch home change cover like sale overall great addition home enables many possibility yet sure add alexa home',\n",
       " 'versatile fun',\n",
       " 'work great killer speaker wife son love',\n",
       " 'regret waiting long purchase item surprised pleased sound quality',\n",
       " 'stopped working week follow command really fun working',\n",
       " 'far love working getting thing set love grocery list app',\n",
       " 'performs pretty much expected disappointed provide terminology need play various kind music without subscribing amazon music service understand music choice may limited without knowing ask cannot access music provided free along echo purchase chart showing language need use',\n",
       " 'easy set',\n",
       " 'like product except speaker high quality expected',\n",
       " 'great investment alexa helped made laugh',\n",
       " 'yet another exho home love',\n",
       " 'love plan gender music big band jazz easy find local radio sound good stop voice command get phone call',\n",
       " 'good value',\n",
       " 'super easy set loving new echo',\n",
       " 'whats like speaker ask alexa',\n",
       " 'best father day gift dad joked mom alexa one listening repeated story going forward',\n",
       " 'great addition breakfast room kitchen tune information instantly available slowly learning feature',\n",
       " 'sound quality',\n",
       " 'sad joke worthless',\n",
       " 'entertainment',\n",
       " 'good quality',\n",
       " 'work great sound great miss beat wish battery better portability',\n",
       " 'loved till someone stoled afford replace yet going',\n",
       " 'alexa rock',\n",
       " 'got gift love never would bought one allows play music amozon prime music worth also give new brief tell joke',\n",
       " '',\n",
       " 'mom bought echo dot repeated ask take one great told two day made take hour later could live life without amazing four large speaker small echo dot returning say going order alexa speaker go big get echo otherwise tou returning two echo dot live without',\n",
       " 'love great product',\n",
       " 'easy set user friendly',\n",
       " 'really disappointed alexa plug wall socket time fault checking made assumption company technologically advanced amazon would sell product rechargeable battery could return would apple music boom speaker give flexibility alexa',\n",
       " 'think nd gen sound good st aux could add external speaker going get dot nd issue unique unit understand override default prevents playing blue tooth speaker playing group get delay using bt speaker unit heard able play group using bt speaker',\n",
       " 'everything',\n",
       " 'like interaction asking question like ask setup schedule connected lamp',\n",
       " 'supberb sound definitely worth extra money listen lot music',\n",
       " 'really love amazon echo think sound quality great lot fun really handy music get update weather sport',\n",
       " 'love grandkids',\n",
       " 'far worked well always intuitive link different device skill getting hang',\n",
       " 'work advertised',\n",
       " 'love',\n",
       " 'love new addition house speaker quality great love alexa two complaint suggestion future series would better communication ability example smart light house unless specify kitchen light kitchen light prior command either respond say recognize may want alexa respond say thank afterwards repeat alexa thank time respond husband know sound odd laugh maybe southern thing want alexa manner',\n",
       " 'like everything music trivia game weather',\n",
       " 'described received time like automatic enrolment music',\n",
       " 'great device',\n",
       " 'owned echo overa year new lack easy way increase decrease volume without telling increase decrease volume hard wife since english second language born korea sound echo superb keep',\n",
       " 'love kitchen work well',\n",
       " 'nice impressed wish say though',\n",
       " 'love product nice easy access much info',\n",
       " 'got great sound bass work time still hot miss recognizes thing',\n",
       " 'still discovering echo',\n",
       " 'amazing paroduct',\n",
       " 'good hearing range sound quality bit complicated set quite understand lot even speaking slowly clearly love flash briefing feature interfacing abode home security system',\n",
       " 'speaker sound good',\n",
       " 'absolutely love',\n",
       " 'best part product control thermostat light house anything dislike',\n",
       " 'thoroughly enjoying amazon echo installation easy using alexa app purchased kasa smart plug control living room light installation easy using kasa app sinqued right echo enjoying playing music echo sound quality awesome added kasa smart bulb kitchen setup seamless looking forward adding automation home',\n",
       " 'home entertainment',\n",
       " 'cool product easy setup fun use sound quality much better anticipated',\n",
       " 'love great sound easy connect use',\n",
       " 'work fairly new smart tv mainly tv manufacturer lg fault due supporting anything older tv year smart lock also need additional piece equipment order connect well speaker sound great work well',\n",
       " 'great sound little speaker',\n",
       " 'enjoy',\n",
       " '',\n",
       " 'cool',\n",
       " 'good quality great sound quality',\n",
       " 'work perfectly',\n",
       " 'great product sometimes alexa understand command fire tv fabulous speaker',\n",
       " 'love echo great sound smart',\n",
       " 'sure love',\n",
       " 'play great',\n",
       " 'work absolutely great',\n",
       " 'amazing product great sound quality',\n",
       " 'best thing invested thank much',\n",
       " 'extremely impressed item bought warehouse outlet minor imperfection tell even one work great come packaging sealed damage missing anything like sound quality see knock bose great family easy use minor learning curve learns voice integrates seamlessly amazon service wait get classroom lot fun even speaker let alone plan',\n",
       " 'love echo show bedroom wonderful music info sleeping sound',\n",
       " 'awesome life changer seriously able start morning alexa wake alarm playing music gotten used voice another room listen say love echo hesitate get one price speaker unbelievable buying cordless holder take echo anywhere love purchase love alexa',\n",
       " 'super impressed alexa prime lapsed play anything smart enough differentiate among spotify account use either randomly speaks nobody talking today unplugged sure ever use alexa',\n",
       " 'like everything',\n",
       " 'liked',\n",
       " 'never issue buying use electronics long get good like new read comment see used',\n",
       " 'family really love new echo',\n",
       " 'bought wife love',\n",
       " 'fun got today pod go car use house',\n",
       " 'like',\n",
       " 'third echo worth every penny like household employee small flat rate keep bedroom living room drop use intercom listen music answer quick question alarm wake school etc',\n",
       " 'listen music set timer',\n",
       " 'received echo perfect condition device easy set responds quickly without issue alexa great addition family',\n",
       " 'good sound like music scheduling like get random thought recorded think joke cute',\n",
       " 'purchased beginning learn far pleased amazed different action perform enjoying looking forward learning option provides',\n",
       " 'echo great others even though smaller',\n",
       " 'funny buy something look fun wind totally useful part home loving',\n",
       " 'bought replace dot living room speaker slightly better hears better tv unfortunately understand respond request well dot frequently request time get want dot usually exactly want first request consider upgrade',\n",
       " 'good experience far second generation echo many thing learn time yet right mostly enjoying music weather update using alarm feature personality also purchased mini smart socket yes excited begin using',\n",
       " 'trouble connecting tv exactly tech smart sure one grandson figure far using mostly music',\n",
       " 'simply love echo hardly watch tv anymore busy listening music speaker pretty goo size fun skill really make echo fun whole family',\n",
       " 'enjoyed entire echo experience',\n",
       " 'easy set',\n",
       " 'echo amazing device many time seems intuitive time ask something seems clear simple get result installation fairly straightforward messed several time simply thought step complete actually made lose ground figured advice patient app let know move next step biggest issue moment several echo device home would like use intercom told done however make echo aware others existence ask alexa answer instruction change name know likely fault would think designer would anticipate make easier find needed instruction small deal many device savvy people challenge',\n",
       " 'loving much',\n",
       " 'original alexa tap far nd generation best happy see making improvement new one would great update little think would help lot bug happy play music throughout whole house adjust bass treble thank',\n",
       " 'pleased echo nd generation nice alexa available music weather news probably lot discovered',\n",
       " 'pleasantly surprised sound quality echo big fan deep bass might sufficient though potential control home option explore evolve home smart home voice recognition impressive stylish fun regret purchase great technically change people ask play song movie responds instantly elderly loved one would great gift connected wifi simple use want unlimited music control sure amazon prime premium spotify blown away personal dj even conversation echo embarrassed say echo made laugh couple time ask tell joke tell package since amazon prime addict come extremely handy',\n",
       " 'easy setup love thing',\n",
       " 'alexa throughout house future arrived',\n",
       " 'already alexa amazon find today could resist getting echo also best thing ever use side house happier',\n",
       " 'arrived expected',\n",
       " 'bought week ago everything product excellent forget buy charger ordering must take outside pool worry hiring electrician put outlet yard',\n",
       " 'terrific',\n",
       " 'love echo',\n",
       " 'smaller original look nicer',\n",
       " 'work great',\n",
       " 'husband would call late adopter come technology decide would try echo serve primarily music source wow amazed great sound also great time listening favorite song buy asking alexa may even buy one elderly dad think enjoy one listen music even place call u',\n",
       " 'really enjoyed changing directv channel play iheartradio pandora adjusts ac thermostat turn living room light outside light',\n",
       " 'wanting one bought prime day absolutely love',\n",
       " 'glad got echo bluetooth speaker alexa much stuff non smart speaker personally love timer feature helped cooking multiple thing simultaneously pandora integration another feature use daily happy prime day purchase get echo hub echo dot future',\n",
       " 'see subject line love',\n",
       " 'love',\n",
       " 'easy setup',\n",
       " 'hesitant buy echo echo dot seems good enough echo except sound quality really feel needed however glad got difference sound really far superior echo dot listen greatest showman little power',\n",
       " 'sound quality great still learning different thing fun',\n",
       " 'got good deal work great prime setup bit pain fault crappy internet service worked great nice sound small speaker',\n",
       " 'love',\n",
       " 'work great perfect office',\n",
       " 'love one inside house one pool good bose speaker around house',\n",
       " 'easy use amazing',\n",
       " 'nice product',\n",
       " 'love echo totally amazed speaker quality bummed buy two since got prime day',\n",
       " 'responsive great sound quality size',\n",
       " 'efficient amazing cool use often every day',\n",
       " 'impressed quality sound echo definitely comparable bose mini gave star use apple music account',\n",
       " 'technology small device price good sound amazing must feature home',\n",
       " 'mainly use music learning time really nothing bad say',\n",
       " 'replaced st gen concerned smaller unit sound wrong anything volume clear good product',\n",
       " 'great addition echo plus',\n",
       " 'best',\n",
       " 'love feature play music every room multiple echo',\n",
       " 'love alexa surprised much use',\n",
       " 'use product enjoyment love',\n",
       " 'easy use great sound great purchase great price',\n",
       " 'easy set issue',\n",
       " 'unit add much pleasure echo plus music information home one room',\n",
       " 'extremely useful simple thing like spotify audible thing like sometimes answer everything ask still nice use',\n",
       " 'difficult set keep timing enter password',\n",
       " 'getting use using echo used shopping list listening music timer working great far',\n",
       " 'cool lot fun used week still learning capability',\n",
       " 'love love',\n",
       " 'love hard time setting apps',\n",
       " 'use office another apartment music information',\n",
       " ...]"
      ]
     },
     "execution_count": 21,
     "metadata": {},
     "output_type": "execute_result"
    }
   ],
   "source": [
    "corpus"
   ]
  },
  {
   "cell_type": "code",
   "execution_count": 73,
   "metadata": {},
   "outputs": [],
   "source": [
    "from sklearn.feature_extraction.text import CountVectorizer\n",
    "cv = CountVectorizer(max_features = 1500,ngram_range=(1,1))\n",
    "X = cv.fit_transform(corpus).toarray()\n",
    "y=data.iloc[:,4].values"
   ]
  },
  {
   "cell_type": "code",
   "execution_count": 74,
   "metadata": {},
   "outputs": [
    {
     "data": {
      "text/plain": [
       "array([1, 1, 1, ..., 1, 1, 1], dtype=int64)"
      ]
     },
     "execution_count": 74,
     "metadata": {},
     "output_type": "execute_result"
    }
   ],
   "source": [
    "y"
   ]
  },
  {
   "cell_type": "code",
   "execution_count": 28,
   "metadata": {},
   "outputs": [
    {
     "data": {
      "text/plain": [
       "rating              False\n",
       "date                False\n",
       "variation           False\n",
       "verified_reviews    False\n",
       "Reviews             False\n",
       "length              False\n",
       "dtype: bool"
      ]
     },
     "execution_count": 28,
     "metadata": {},
     "output_type": "execute_result"
    }
   ],
   "source": [
    "data.isnull().any()"
   ]
  },
  {
   "cell_type": "code",
   "execution_count": 29,
   "metadata": {},
   "outputs": [],
   "source": [
    "from sklearn.model_selection import train_test_split\n",
    "X_train, X_test, y_train, y_test = train_test_split(X, y, test_size = 0.20, random_state = 0)\n"
   ]
  },
  {
   "cell_type": "code",
   "execution_count": 30,
   "metadata": {},
   "outputs": [
    {
     "name": "stdout",
     "output_type": "stream",
     "text": [
      "Training Accuracy : 0.9916666666666667\n",
      "Testing Accuracy : 0.9380952380952381\n",
      "[[ 16  38]\n",
      " [  1 575]]\n",
      "              precision    recall  f1-score   support\n",
      "\n",
      "           0       0.94      0.30      0.45        54\n",
      "           1       0.94      1.00      0.97       576\n",
      "\n",
      "    accuracy                           0.94       630\n",
      "   macro avg       0.94      0.65      0.71       630\n",
      "weighted avg       0.94      0.94      0.92       630\n",
      "\n"
     ]
    }
   ],
   "source": [
    "from sklearn.ensemble import RandomForestClassifier\n",
    "def RF():\n",
    "    classifier = RandomForestClassifier(n_estimators = 100, criterion = 'entropy', random_state = 0)\n",
    "    classifier.fit(X_train, y_train)\n",
    "    y_pred = classifier.predict(X_test)\n",
    "    print(\"Training Accuracy :\", classifier.score(X_train, y_train))\n",
    "    print(\"Testing Accuracy :\", classifier.score(X_test, y_test))\n",
    "    from sklearn.metrics import confusion_matrix\n",
    "    cm = confusion_matrix(y_test, y_pred)\n",
    "    print(cm)\n",
    "    from sklearn.metrics import classification_report\n",
    "    print(classification_report(y_test,y_pred))\n",
    "RF()    "
   ]
  },
  {
   "cell_type": "code",
   "execution_count": null,
   "metadata": {},
   "outputs": [],
   "source": []
  }
 ],
 "metadata": {
  "kernelspec": {
   "display_name": "Python 3",
   "language": "python",
   "name": "python3"
  },
  "language_info": {
   "codemirror_mode": {
    "name": "ipython",
    "version": 3
   },
   "file_extension": ".py",
   "mimetype": "text/x-python",
   "name": "python",
   "nbconvert_exporter": "python",
   "pygments_lexer": "ipython3",
   "version": "3.8.5"
  }
 },
 "nbformat": 4,
 "nbformat_minor": 2
}
